{
 "cells": [
  {
   "cell_type": "code",
   "execution_count": 10,
   "metadata": {},
   "outputs": [],
   "source": [
    "import pytesseract\n",
    "from PIL import Image, ImageFilter, ImageEnhance\n",
    "import numpy as np\n",
    "from skimage import io\n",
    "from skimage.color import rgb2gray\n",
    "from skimage.transform import rotate\n",
    "from deskew import determine_skew\n",
    "import glob\n",
    "import cv2\n",
    "import numpy as np  \n",
    "import os\n",
    "from tqdm.notebook import tqdm \n",
    "import time\n",
    "\n",
    "path_to_tesseract = r'C:\\Program Files\\Tesseract-OCR\\tesseract.exe'\n"
   ]
  },
  {
   "cell_type": "code",
   "execution_count": 27,
   "metadata": {},
   "outputs": [
    {
     "data": {
      "application/vnd.jupyter.widget-view+json": {
       "model_id": "c866198dd34d4c7f8b07f787b941e834",
       "version_major": 2,
       "version_minor": 0
      },
      "text/plain": [
       "  0%|          | 0/3492 [00:00<?, ?it/s]"
      ]
     },
     "metadata": {},
     "output_type": "display_data"
    },
    {
     "name": "stderr",
     "output_type": "stream",
     "text": [
      "C:\\Users\\adamm\\AppData\\Local\\Temp\\ipykernel_20988\\1891972723.py:17: UserWarning: deskewed/test/less30/09473453-6a5e-40f6-a0ed-7b9d14658250.png is a low contrast image\n",
      "  io.imsave(f'deskewed/test/less30/{name}.png', rotated.astype(np.uint8))\n",
      "C:\\Users\\adamm\\AppData\\Local\\Temp\\ipykernel_20988\\1891972723.py:17: UserWarning: deskewed/test/less30/0b416cca-bbd3-44f3-a29c-5192c6d795b0.png is a low contrast image\n",
      "  io.imsave(f'deskewed/test/less30/{name}.png', rotated.astype(np.uint8))\n",
      "C:\\Users\\adamm\\AppData\\Local\\Temp\\ipykernel_20988\\1891972723.py:17: UserWarning: deskewed/test/less30/0cc8384c-7440-4499-83a4-33dc49b9b21d.png is a low contrast image\n",
      "  io.imsave(f'deskewed/test/less30/{name}.png', rotated.astype(np.uint8))\n",
      "C:\\Users\\adamm\\AppData\\Local\\Temp\\ipykernel_20988\\1891972723.py:17: UserWarning: deskewed/test/less30/0f61d8da-4ebf-41b5-8409-3cbcb84a719d.png is a low contrast image\n",
      "  io.imsave(f'deskewed/test/less30/{name}.png', rotated.astype(np.uint8))\n",
      "C:\\Users\\adamm\\AppData\\Local\\Temp\\ipykernel_20988\\1891972723.py:17: UserWarning: deskewed/test/less30/0fbb13ad-1688-4a8c-9861-86d998dfb546.png is a low contrast image\n",
      "  io.imsave(f'deskewed/test/less30/{name}.png', rotated.astype(np.uint8))\n",
      "C:\\Users\\adamm\\AppData\\Local\\Temp\\ipykernel_20988\\1891972723.py:17: UserWarning: deskewed/test/less30/122e5368-3b46-4427-ba77-df8910a0ba08.png is a low contrast image\n",
      "  io.imsave(f'deskewed/test/less30/{name}.png', rotated.astype(np.uint8))\n",
      "C:\\Users\\adamm\\AppData\\Local\\Temp\\ipykernel_20988\\1891972723.py:17: UserWarning: deskewed/test/less30/13e8c079-f4c6-4309-9109-c8b9f9af795c.png is a low contrast image\n",
      "  io.imsave(f'deskewed/test/less30/{name}.png', rotated.astype(np.uint8))\n",
      "C:\\Users\\adamm\\AppData\\Local\\Temp\\ipykernel_20988\\1891972723.py:17: UserWarning: deskewed/test/less30/163b3339-1f3b-448a-aa61-49ee9de35b9a.png is a low contrast image\n",
      "  io.imsave(f'deskewed/test/less30/{name}.png', rotated.astype(np.uint8))\n",
      "C:\\Users\\adamm\\AppData\\Local\\Temp\\ipykernel_20988\\1891972723.py:17: UserWarning: deskewed/test/less30/18de83d1-de17-4153-b67c-9e7c4c5cfd3d.png is a low contrast image\n",
      "  io.imsave(f'deskewed/test/less30/{name}.png', rotated.astype(np.uint8))\n",
      "C:\\Users\\adamm\\AppData\\Local\\Temp\\ipykernel_20988\\1891972723.py:17: UserWarning: deskewed/test/less30/1c5e4077-8c46-4f08-b05a-ba5f8bc2f50c.png is a low contrast image\n",
      "  io.imsave(f'deskewed/test/less30/{name}.png', rotated.astype(np.uint8))\n",
      "C:\\Users\\adamm\\AppData\\Local\\Temp\\ipykernel_20988\\1891972723.py:17: UserWarning: deskewed/test/less30/23350f51-ad9a-4add-8b0c-ea7823238500.png is a low contrast image\n",
      "  io.imsave(f'deskewed/test/less30/{name}.png', rotated.astype(np.uint8))\n",
      "C:\\Users\\adamm\\AppData\\Local\\Temp\\ipykernel_20988\\1891972723.py:17: UserWarning: deskewed/test/less30/31bdc69b-afd4-4efb-afe1-7afe958e255b.png is a low contrast image\n",
      "  io.imsave(f'deskewed/test/less30/{name}.png', rotated.astype(np.uint8))\n",
      "C:\\Users\\adamm\\AppData\\Local\\Temp\\ipykernel_20988\\1891972723.py:17: UserWarning: deskewed/test/less30/4013bfa9-9d60-406a-9ead-4ff49e9d4ff4.png is a low contrast image\n",
      "  io.imsave(f'deskewed/test/less30/{name}.png', rotated.astype(np.uint8))\n",
      "C:\\Users\\adamm\\AppData\\Local\\Temp\\ipykernel_20988\\1891972723.py:17: UserWarning: deskewed/test/less30/4101cac0-7e62-4392-b1fe-f6d527e8d318.png is a low contrast image\n",
      "  io.imsave(f'deskewed/test/less30/{name}.png', rotated.astype(np.uint8))\n",
      "C:\\Users\\adamm\\AppData\\Local\\Temp\\ipykernel_20988\\1891972723.py:17: UserWarning: deskewed/test/less30/45721322-e991-409c-bce1-72689a291e40.png is a low contrast image\n",
      "  io.imsave(f'deskewed/test/less30/{name}.png', rotated.astype(np.uint8))\n",
      "C:\\Users\\adamm\\AppData\\Local\\Temp\\ipykernel_20988\\1891972723.py:17: UserWarning: deskewed/test/less30/474dd398-09f8-4ade-a84c-92c05d217899.png is a low contrast image\n",
      "  io.imsave(f'deskewed/test/less30/{name}.png', rotated.astype(np.uint8))\n",
      "C:\\Users\\adamm\\AppData\\Local\\Temp\\ipykernel_20988\\1891972723.py:17: UserWarning: deskewed/test/less30/4765361e-4cdb-49d8-a093-69a669101849.png is a low contrast image\n",
      "  io.imsave(f'deskewed/test/less30/{name}.png', rotated.astype(np.uint8))\n",
      "C:\\Users\\adamm\\AppData\\Local\\Temp\\ipykernel_20988\\1891972723.py:17: UserWarning: deskewed/test/less30/4cde78a8-d636-4556-be3a-9d604cc5185d.png is a low contrast image\n",
      "  io.imsave(f'deskewed/test/less30/{name}.png', rotated.astype(np.uint8))\n",
      "C:\\Users\\adamm\\AppData\\Local\\Temp\\ipykernel_20988\\1891972723.py:17: UserWarning: deskewed/test/less30/5268cdc1-cc73-46b4-9383-a37a3f2b3f97.png is a low contrast image\n",
      "  io.imsave(f'deskewed/test/less30/{name}.png', rotated.astype(np.uint8))\n",
      "C:\\Users\\adamm\\AppData\\Local\\Temp\\ipykernel_20988\\1891972723.py:17: UserWarning: deskewed/test/less30/527b88b4-7686-4e2d-898d-9498d22eda9b.png is a low contrast image\n",
      "  io.imsave(f'deskewed/test/less30/{name}.png', rotated.astype(np.uint8))\n",
      "C:\\Users\\adamm\\AppData\\Local\\Temp\\ipykernel_20988\\1891972723.py:17: UserWarning: deskewed/test/less30/58b4b569-f01f-445e-b736-04d3a19f0e86.png is a low contrast image\n",
      "  io.imsave(f'deskewed/test/less30/{name}.png', rotated.astype(np.uint8))\n",
      "C:\\Users\\adamm\\AppData\\Local\\Temp\\ipykernel_20988\\1891972723.py:17: UserWarning: deskewed/test/less30/62874c2c-237c-4442-832b-5bf43464fb9e.png is a low contrast image\n",
      "  io.imsave(f'deskewed/test/less30/{name}.png', rotated.astype(np.uint8))\n",
      "C:\\Users\\adamm\\AppData\\Local\\Temp\\ipykernel_20988\\1891972723.py:17: UserWarning: deskewed/test/less30/6bfab808-d363-4cd7-a131-dab35cd2ec96.png is a low contrast image\n",
      "  io.imsave(f'deskewed/test/less30/{name}.png', rotated.astype(np.uint8))\n",
      "C:\\Users\\adamm\\AppData\\Local\\Temp\\ipykernel_20988\\1891972723.py:17: UserWarning: deskewed/test/less30/6d0cc4f1-c8ce-470f-ba6e-c3f4628a93fa.png is a low contrast image\n",
      "  io.imsave(f'deskewed/test/less30/{name}.png', rotated.astype(np.uint8))\n",
      "C:\\Users\\adamm\\AppData\\Local\\Temp\\ipykernel_20988\\1891972723.py:17: UserWarning: deskewed/test/less30/6d6f021c-b9e3-4ea7-b829-2531d2d9aed6.png is a low contrast image\n",
      "  io.imsave(f'deskewed/test/less30/{name}.png', rotated.astype(np.uint8))\n",
      "C:\\Users\\adamm\\AppData\\Local\\Temp\\ipykernel_20988\\1891972723.py:17: UserWarning: deskewed/test/less30/72073eeb-2e4e-465c-a3ad-d655de716fe6.png is a low contrast image\n",
      "  io.imsave(f'deskewed/test/less30/{name}.png', rotated.astype(np.uint8))\n",
      "C:\\Users\\adamm\\AppData\\Local\\Temp\\ipykernel_20988\\1891972723.py:17: UserWarning: deskewed/test/less30/7f975b80-ed32-4cc0-8932-769058e31716.png is a low contrast image\n",
      "  io.imsave(f'deskewed/test/less30/{name}.png', rotated.astype(np.uint8))\n",
      "C:\\Users\\adamm\\AppData\\Local\\Temp\\ipykernel_20988\\1891972723.py:17: UserWarning: deskewed/test/less30/810261d9-acc5-4fd7-8a98-cdcc73ed5a7c.png is a low contrast image\n",
      "  io.imsave(f'deskewed/test/less30/{name}.png', rotated.astype(np.uint8))\n",
      "C:\\Users\\adamm\\AppData\\Local\\Temp\\ipykernel_20988\\1891972723.py:17: UserWarning: deskewed/test/less30/83a3cb9c-2afb-4588-b2a5-153e7b832e3d.png is a low contrast image\n",
      "  io.imsave(f'deskewed/test/less30/{name}.png', rotated.astype(np.uint8))\n",
      "C:\\Users\\adamm\\AppData\\Local\\Temp\\ipykernel_20988\\1891972723.py:17: UserWarning: deskewed/test/less30/84229cfe-97c9-4b7b-a1d9-822d6f06303e.png is a low contrast image\n",
      "  io.imsave(f'deskewed/test/less30/{name}.png', rotated.astype(np.uint8))\n",
      "C:\\Users\\adamm\\AppData\\Local\\Temp\\ipykernel_20988\\1891972723.py:17: UserWarning: deskewed/test/less30/85960fb7-2a56-4cde-ad81-7819777a9d12.png is a low contrast image\n",
      "  io.imsave(f'deskewed/test/less30/{name}.png', rotated.astype(np.uint8))\n",
      "C:\\Users\\adamm\\AppData\\Local\\Temp\\ipykernel_20988\\1891972723.py:17: UserWarning: deskewed/test/less30/86a7e019-2bdd-478e-9286-75ee29ff20b4.png is a low contrast image\n",
      "  io.imsave(f'deskewed/test/less30/{name}.png', rotated.astype(np.uint8))\n",
      "C:\\Users\\adamm\\AppData\\Local\\Temp\\ipykernel_20988\\1891972723.py:17: UserWarning: deskewed/test/less30/89d58039-f0f4-42e1-9d64-785a8ead48da.png is a low contrast image\n",
      "  io.imsave(f'deskewed/test/less30/{name}.png', rotated.astype(np.uint8))\n",
      "C:\\Users\\adamm\\AppData\\Local\\Temp\\ipykernel_20988\\1891972723.py:17: UserWarning: deskewed/test/less30/8aa57937-a99c-4df5-ab14-0d7c9e57a695.png is a low contrast image\n",
      "  io.imsave(f'deskewed/test/less30/{name}.png', rotated.astype(np.uint8))\n",
      "C:\\Users\\adamm\\AppData\\Local\\Temp\\ipykernel_20988\\1891972723.py:17: UserWarning: deskewed/test/less30/8ab73acf-bc65-4148-bb12-82afa389893c.png is a low contrast image\n",
      "  io.imsave(f'deskewed/test/less30/{name}.png', rotated.astype(np.uint8))\n",
      "C:\\Users\\adamm\\AppData\\Local\\Temp\\ipykernel_20988\\1891972723.py:17: UserWarning: deskewed/test/less30/93ec4931-03d9-4163-8ed9-2b238d6f4558.png is a low contrast image\n",
      "  io.imsave(f'deskewed/test/less30/{name}.png', rotated.astype(np.uint8))\n",
      "C:\\Users\\adamm\\AppData\\Local\\Temp\\ipykernel_20988\\1891972723.py:17: UserWarning: deskewed/test/less30/95532aa0-f4cb-4b7b-85e1-0cd35df941fd.png is a low contrast image\n",
      "  io.imsave(f'deskewed/test/less30/{name}.png', rotated.astype(np.uint8))\n",
      "C:\\Users\\adamm\\AppData\\Local\\Temp\\ipykernel_20988\\1891972723.py:17: UserWarning: deskewed/test/less30/9958046f-cee5-43e0-b3e5-0f096f48f6b1.png is a low contrast image\n",
      "  io.imsave(f'deskewed/test/less30/{name}.png', rotated.astype(np.uint8))\n",
      "C:\\Users\\adamm\\AppData\\Local\\Temp\\ipykernel_20988\\1891972723.py:17: UserWarning: deskewed/test/less30/9ae67664-5422-4267-956d-e9c2b7167bd7.png is a low contrast image\n",
      "  io.imsave(f'deskewed/test/less30/{name}.png', rotated.astype(np.uint8))\n",
      "C:\\Users\\adamm\\AppData\\Local\\Temp\\ipykernel_20988\\1891972723.py:17: UserWarning: deskewed/test/less30/9fbf9de4-8b21-47a5-9362-36ed5eba1b2d.png is a low contrast image\n",
      "  io.imsave(f'deskewed/test/less30/{name}.png', rotated.astype(np.uint8))\n",
      "C:\\Users\\adamm\\AppData\\Local\\Temp\\ipykernel_20988\\1891972723.py:17: UserWarning: deskewed/test/less30/a8191027-3196-43ba-9dc7-835698541238.png is a low contrast image\n",
      "  io.imsave(f'deskewed/test/less30/{name}.png', rotated.astype(np.uint8))\n",
      "C:\\Users\\adamm\\AppData\\Local\\Temp\\ipykernel_20988\\1891972723.py:17: UserWarning: deskewed/test/less30/b421f439-f523-4245-b47d-fa65c4dd5ba9.png is a low contrast image\n",
      "  io.imsave(f'deskewed/test/less30/{name}.png', rotated.astype(np.uint8))\n",
      "C:\\Users\\adamm\\AppData\\Local\\Temp\\ipykernel_20988\\1891972723.py:17: UserWarning: deskewed/test/less30/c2e034ea-f5c9-497a-acce-b298974583df.png is a low contrast image\n",
      "  io.imsave(f'deskewed/test/less30/{name}.png', rotated.astype(np.uint8))\n",
      "C:\\Users\\adamm\\AppData\\Local\\Temp\\ipykernel_20988\\1891972723.py:17: UserWarning: deskewed/test/less30/cd491ca7-a251-49c8-b6fd-52beeb491d51.png is a low contrast image\n",
      "  io.imsave(f'deskewed/test/less30/{name}.png', rotated.astype(np.uint8))\n",
      "C:\\Users\\adamm\\AppData\\Local\\Temp\\ipykernel_20988\\1891972723.py:17: UserWarning: deskewed/test/less30/d4363c92-a7ee-4129-adbc-c2f253fc4b29.png is a low contrast image\n",
      "  io.imsave(f'deskewed/test/less30/{name}.png', rotated.astype(np.uint8))\n",
      "C:\\Users\\adamm\\AppData\\Local\\Temp\\ipykernel_20988\\1891972723.py:17: UserWarning: deskewed/test/less30/d8d6ca6b-2e5e-43bf-a183-a0b49b0c1d60.png is a low contrast image\n",
      "  io.imsave(f'deskewed/test/less30/{name}.png', rotated.astype(np.uint8))\n",
      "C:\\Users\\adamm\\AppData\\Local\\Temp\\ipykernel_20988\\1891972723.py:17: UserWarning: deskewed/test/less30/d9aeb461-743d-41f1-a502-1c6556607e24.png is a low contrast image\n",
      "  io.imsave(f'deskewed/test/less30/{name}.png', rotated.astype(np.uint8))\n",
      "C:\\Users\\adamm\\AppData\\Local\\Temp\\ipykernel_20988\\1891972723.py:17: UserWarning: deskewed/test/less30/dc0adb35-6bbe-4454-8523-7934d2c43875.png is a low contrast image\n",
      "  io.imsave(f'deskewed/test/less30/{name}.png', rotated.astype(np.uint8))\n"
     ]
    },
    {
     "name": "stdout",
     "output_type": "stream",
     "text": [
      "Nie udało się otworzyć pliku de5e15cc-6a3b-4659-bb5e-2456ef87ea05\n"
     ]
    },
    {
     "name": "stderr",
     "output_type": "stream",
     "text": [
      "C:\\Users\\adamm\\AppData\\Local\\Temp\\ipykernel_20988\\1891972723.py:17: UserWarning: deskewed/test/less30/e176e815-0848-49ee-ae3e-226feb9f2b67.png is a low contrast image\n",
      "  io.imsave(f'deskewed/test/less30/{name}.png', rotated.astype(np.uint8))\n",
      "C:\\Users\\adamm\\AppData\\Local\\Temp\\ipykernel_20988\\1891972723.py:17: UserWarning: deskewed/test/less30/e6ec0e86-9254-422d-bdbb-e696dd7ec153.png is a low contrast image\n",
      "  io.imsave(f'deskewed/test/less30/{name}.png', rotated.astype(np.uint8))\n",
      "C:\\Users\\adamm\\AppData\\Local\\Temp\\ipykernel_20988\\1891972723.py:17: UserWarning: deskewed/test/less30/ed9640d4-d410-478b-89c9-f67fa53a301c.png is a low contrast image\n",
      "  io.imsave(f'deskewed/test/less30/{name}.png', rotated.astype(np.uint8))\n",
      "C:\\Users\\adamm\\AppData\\Local\\Temp\\ipykernel_20988\\1891972723.py:17: UserWarning: deskewed/test/less30/f3b21f34-e63d-4e3f-a152-e37eec4bb5c2.png is a low contrast image\n",
      "  io.imsave(f'deskewed/test/less30/{name}.png', rotated.astype(np.uint8))\n",
      "C:\\Users\\adamm\\AppData\\Local\\Temp\\ipykernel_20988\\1891972723.py:17: UserWarning: deskewed/test/less30/f7fd32a3-989b-41ec-9681-d6ae78cbbeb8.png is a low contrast image\n",
      "  io.imsave(f'deskewed/test/less30/{name}.png', rotated.astype(np.uint8))\n",
      "C:\\Users\\adamm\\AppData\\Local\\Temp\\ipykernel_20988\\1891972723.py:17: UserWarning: deskewed/test/less30/f867d667-d5c5-4f10-862f-9e52938ed47e.png is a low contrast image\n",
      "  io.imsave(f'deskewed/test/less30/{name}.png', rotated.astype(np.uint8))\n",
      "C:\\Users\\adamm\\AppData\\Local\\Temp\\ipykernel_20988\\1891972723.py:17: UserWarning: deskewed/test/less30/f93c436b-f641-4dde-9486-e21e40665391.png is a low contrast image\n",
      "  io.imsave(f'deskewed/test/less30/{name}.png', rotated.astype(np.uint8))\n",
      "C:\\Users\\adamm\\AppData\\Local\\Temp\\ipykernel_20988\\1891972723.py:17: UserWarning: deskewed/test/less30/fa2059b7-55ef-41b0-b623-381d39a63c21.png is a low contrast image\n",
      "  io.imsave(f'deskewed/test/less30/{name}.png', rotated.astype(np.uint8))\n"
     ]
    }
   ],
   "source": [
    "input_list_names = glob.glob(\"wszystkie_zdj/test/*\",)\n",
    "for photo_name in tqdm(input_list_names):\n",
    "    name = photo_name.split(\"\\\\\")[-1]\n",
    "    name = name.split(\".\")[0]\n",
    "\n",
    "    try:    \n",
    "        image = io.imread(photo_name)\n",
    "    except:\n",
    "        print(f\"Nie udało się otworzyć pliku {name}\")\n",
    "        continue\n",
    "    angle = determine_skew(image)\n",
    "    rotated = rotate(image, angle, resize=True) * 255\n",
    "\n",
    "    if abs (angle) >= 30:\n",
    "        io.imsave(f'deskewed/test/moreeq30/{name}.png', image.astype(np.uint8))\n",
    "    else:\n",
    "        io.imsave(f'deskewed/test/less30/{name}.png', rotated.astype(np.uint8))"
   ]
  },
  {
   "cell_type": "code",
   "execution_count": 30,
   "metadata": {},
   "outputs": [
    {
     "data": {
      "application/vnd.jupyter.widget-view+json": {
       "model_id": "5090368c68be4311a7528922d3e4f64b",
       "version_major": 2,
       "version_minor": 0
      },
      "text/plain": [
       "  0%|          | 0/3456 [00:00<?, ?it/s]"
      ]
     },
     "metadata": {},
     "output_type": "display_data"
    },
    {
     "name": "stderr",
     "output_type": "stream",
     "text": [
      "C:\\Users\\adamm\\AppData\\Local\\Temp\\ipykernel_20988\\1174088497.py:11: UserWarning: contrast/test/less30/09473453-6a5e-40f6-a0ed-7b9d14658250.png is a low contrast image\n",
      "  io.imsave(f'contrast/test/less30/{name}.png', image.astype(np.uint8))\n",
      "C:\\Users\\adamm\\AppData\\Local\\Temp\\ipykernel_20988\\1174088497.py:11: UserWarning: contrast/test/less30/0b416cca-bbd3-44f3-a29c-5192c6d795b0.png is a low contrast image\n",
      "  io.imsave(f'contrast/test/less30/{name}.png', image.astype(np.uint8))\n",
      "C:\\Users\\adamm\\AppData\\Local\\Temp\\ipykernel_20988\\1174088497.py:11: UserWarning: contrast/test/less30/0cc8384c-7440-4499-83a4-33dc49b9b21d.png is a low contrast image\n",
      "  io.imsave(f'contrast/test/less30/{name}.png', image.astype(np.uint8))\n",
      "C:\\Users\\adamm\\AppData\\Local\\Temp\\ipykernel_20988\\1174088497.py:11: UserWarning: contrast/test/less30/0fbb13ad-1688-4a8c-9861-86d998dfb546.png is a low contrast image\n",
      "  io.imsave(f'contrast/test/less30/{name}.png', image.astype(np.uint8))\n",
      "C:\\Users\\adamm\\AppData\\Local\\Temp\\ipykernel_20988\\1174088497.py:11: UserWarning: contrast/test/less30/122e5368-3b46-4427-ba77-df8910a0ba08.png is a low contrast image\n",
      "  io.imsave(f'contrast/test/less30/{name}.png', image.astype(np.uint8))\n",
      "C:\\Users\\adamm\\AppData\\Local\\Temp\\ipykernel_20988\\1174088497.py:11: UserWarning: contrast/test/less30/13e8c079-f4c6-4309-9109-c8b9f9af795c.png is a low contrast image\n",
      "  io.imsave(f'contrast/test/less30/{name}.png', image.astype(np.uint8))\n",
      "C:\\Users\\adamm\\AppData\\Local\\Temp\\ipykernel_20988\\1174088497.py:11: UserWarning: contrast/test/less30/163b3339-1f3b-448a-aa61-49ee9de35b9a.png is a low contrast image\n",
      "  io.imsave(f'contrast/test/less30/{name}.png', image.astype(np.uint8))\n",
      "C:\\Users\\adamm\\AppData\\Local\\Temp\\ipykernel_20988\\1174088497.py:11: UserWarning: contrast/test/less30/18de83d1-de17-4153-b67c-9e7c4c5cfd3d.png is a low contrast image\n",
      "  io.imsave(f'contrast/test/less30/{name}.png', image.astype(np.uint8))\n",
      "C:\\Users\\adamm\\AppData\\Local\\Temp\\ipykernel_20988\\1174088497.py:11: UserWarning: contrast/test/less30/1c5e4077-8c46-4f08-b05a-ba5f8bc2f50c.png is a low contrast image\n",
      "  io.imsave(f'contrast/test/less30/{name}.png', image.astype(np.uint8))\n",
      "C:\\Users\\adamm\\AppData\\Local\\Temp\\ipykernel_20988\\1174088497.py:11: UserWarning: contrast/test/less30/23350f51-ad9a-4add-8b0c-ea7823238500.png is a low contrast image\n",
      "  io.imsave(f'contrast/test/less30/{name}.png', image.astype(np.uint8))\n",
      "C:\\Users\\adamm\\AppData\\Local\\Temp\\ipykernel_20988\\1174088497.py:11: UserWarning: contrast/test/less30/31bdc69b-afd4-4efb-afe1-7afe958e255b.png is a low contrast image\n",
      "  io.imsave(f'contrast/test/less30/{name}.png', image.astype(np.uint8))\n",
      "C:\\Users\\adamm\\AppData\\Local\\Temp\\ipykernel_20988\\1174088497.py:11: UserWarning: contrast/test/less30/4013bfa9-9d60-406a-9ead-4ff49e9d4ff4.png is a low contrast image\n",
      "  io.imsave(f'contrast/test/less30/{name}.png', image.astype(np.uint8))\n",
      "C:\\Users\\adamm\\AppData\\Local\\Temp\\ipykernel_20988\\1174088497.py:11: UserWarning: contrast/test/less30/4101cac0-7e62-4392-b1fe-f6d527e8d318.png is a low contrast image\n",
      "  io.imsave(f'contrast/test/less30/{name}.png', image.astype(np.uint8))\n",
      "C:\\Users\\adamm\\AppData\\Local\\Temp\\ipykernel_20988\\1174088497.py:11: UserWarning: contrast/test/less30/45721322-e991-409c-bce1-72689a291e40.png is a low contrast image\n",
      "  io.imsave(f'contrast/test/less30/{name}.png', image.astype(np.uint8))\n",
      "C:\\Users\\adamm\\AppData\\Local\\Temp\\ipykernel_20988\\1174088497.py:11: UserWarning: contrast/test/less30/474dd398-09f8-4ade-a84c-92c05d217899.png is a low contrast image\n",
      "  io.imsave(f'contrast/test/less30/{name}.png', image.astype(np.uint8))\n",
      "C:\\Users\\adamm\\AppData\\Local\\Temp\\ipykernel_20988\\1174088497.py:11: UserWarning: contrast/test/less30/4765361e-4cdb-49d8-a093-69a669101849.png is a low contrast image\n",
      "  io.imsave(f'contrast/test/less30/{name}.png', image.astype(np.uint8))\n",
      "C:\\Users\\adamm\\AppData\\Local\\Temp\\ipykernel_20988\\1174088497.py:11: UserWarning: contrast/test/less30/4cde78a8-d636-4556-be3a-9d604cc5185d.png is a low contrast image\n",
      "  io.imsave(f'contrast/test/less30/{name}.png', image.astype(np.uint8))\n",
      "C:\\Users\\adamm\\AppData\\Local\\Temp\\ipykernel_20988\\1174088497.py:11: UserWarning: contrast/test/less30/5268cdc1-cc73-46b4-9383-a37a3f2b3f97.png is a low contrast image\n",
      "  io.imsave(f'contrast/test/less30/{name}.png', image.astype(np.uint8))\n",
      "C:\\Users\\adamm\\AppData\\Local\\Temp\\ipykernel_20988\\1174088497.py:11: UserWarning: contrast/test/less30/58b4b569-f01f-445e-b736-04d3a19f0e86.png is a low contrast image\n",
      "  io.imsave(f'contrast/test/less30/{name}.png', image.astype(np.uint8))\n",
      "C:\\Users\\adamm\\AppData\\Local\\Temp\\ipykernel_20988\\1174088497.py:11: UserWarning: contrast/test/less30/62874c2c-237c-4442-832b-5bf43464fb9e.png is a low contrast image\n",
      "  io.imsave(f'contrast/test/less30/{name}.png', image.astype(np.uint8))\n",
      "C:\\Users\\adamm\\AppData\\Local\\Temp\\ipykernel_20988\\1174088497.py:11: UserWarning: contrast/test/less30/6bfab808-d363-4cd7-a131-dab35cd2ec96.png is a low contrast image\n",
      "  io.imsave(f'contrast/test/less30/{name}.png', image.astype(np.uint8))\n",
      "C:\\Users\\adamm\\AppData\\Local\\Temp\\ipykernel_20988\\1174088497.py:11: UserWarning: contrast/test/less30/6d0cc4f1-c8ce-470f-ba6e-c3f4628a93fa.png is a low contrast image\n",
      "  io.imsave(f'contrast/test/less30/{name}.png', image.astype(np.uint8))\n",
      "C:\\Users\\adamm\\AppData\\Local\\Temp\\ipykernel_20988\\1174088497.py:11: UserWarning: contrast/test/less30/6d6f021c-b9e3-4ea7-b829-2531d2d9aed6.png is a low contrast image\n",
      "  io.imsave(f'contrast/test/less30/{name}.png', image.astype(np.uint8))\n",
      "C:\\Users\\adamm\\AppData\\Local\\Temp\\ipykernel_20988\\1174088497.py:11: UserWarning: contrast/test/less30/72073eeb-2e4e-465c-a3ad-d655de716fe6.png is a low contrast image\n",
      "  io.imsave(f'contrast/test/less30/{name}.png', image.astype(np.uint8))\n",
      "C:\\Users\\adamm\\AppData\\Local\\Temp\\ipykernel_20988\\1174088497.py:11: UserWarning: contrast/test/less30/7f975b80-ed32-4cc0-8932-769058e31716.png is a low contrast image\n",
      "  io.imsave(f'contrast/test/less30/{name}.png', image.astype(np.uint8))\n",
      "C:\\Users\\adamm\\AppData\\Local\\Temp\\ipykernel_20988\\1174088497.py:11: UserWarning: contrast/test/less30/810261d9-acc5-4fd7-8a98-cdcc73ed5a7c.png is a low contrast image\n",
      "  io.imsave(f'contrast/test/less30/{name}.png', image.astype(np.uint8))\n",
      "C:\\Users\\adamm\\AppData\\Local\\Temp\\ipykernel_20988\\1174088497.py:11: UserWarning: contrast/test/less30/83a3cb9c-2afb-4588-b2a5-153e7b832e3d.png is a low contrast image\n",
      "  io.imsave(f'contrast/test/less30/{name}.png', image.astype(np.uint8))\n",
      "C:\\Users\\adamm\\AppData\\Local\\Temp\\ipykernel_20988\\1174088497.py:11: UserWarning: contrast/test/less30/84229cfe-97c9-4b7b-a1d9-822d6f06303e.png is a low contrast image\n",
      "  io.imsave(f'contrast/test/less30/{name}.png', image.astype(np.uint8))\n",
      "C:\\Users\\adamm\\AppData\\Local\\Temp\\ipykernel_20988\\1174088497.py:11: UserWarning: contrast/test/less30/85960fb7-2a56-4cde-ad81-7819777a9d12.png is a low contrast image\n",
      "  io.imsave(f'contrast/test/less30/{name}.png', image.astype(np.uint8))\n",
      "C:\\Users\\adamm\\AppData\\Local\\Temp\\ipykernel_20988\\1174088497.py:11: UserWarning: contrast/test/less30/86a7e019-2bdd-478e-9286-75ee29ff20b4.png is a low contrast image\n",
      "  io.imsave(f'contrast/test/less30/{name}.png', image.astype(np.uint8))\n",
      "C:\\Users\\adamm\\AppData\\Local\\Temp\\ipykernel_20988\\1174088497.py:11: UserWarning: contrast/test/less30/89d58039-f0f4-42e1-9d64-785a8ead48da.png is a low contrast image\n",
      "  io.imsave(f'contrast/test/less30/{name}.png', image.astype(np.uint8))\n",
      "C:\\Users\\adamm\\AppData\\Local\\Temp\\ipykernel_20988\\1174088497.py:11: UserWarning: contrast/test/less30/8aa57937-a99c-4df5-ab14-0d7c9e57a695.png is a low contrast image\n",
      "  io.imsave(f'contrast/test/less30/{name}.png', image.astype(np.uint8))\n",
      "C:\\Users\\adamm\\AppData\\Local\\Temp\\ipykernel_20988\\1174088497.py:11: UserWarning: contrast/test/less30/8ab73acf-bc65-4148-bb12-82afa389893c.png is a low contrast image\n",
      "  io.imsave(f'contrast/test/less30/{name}.png', image.astype(np.uint8))\n",
      "C:\\Users\\adamm\\AppData\\Local\\Temp\\ipykernel_20988\\1174088497.py:11: UserWarning: contrast/test/less30/93ec4931-03d9-4163-8ed9-2b238d6f4558.png is a low contrast image\n",
      "  io.imsave(f'contrast/test/less30/{name}.png', image.astype(np.uint8))\n",
      "C:\\Users\\adamm\\AppData\\Local\\Temp\\ipykernel_20988\\1174088497.py:11: UserWarning: contrast/test/less30/95532aa0-f4cb-4b7b-85e1-0cd35df941fd.png is a low contrast image\n",
      "  io.imsave(f'contrast/test/less30/{name}.png', image.astype(np.uint8))\n",
      "C:\\Users\\adamm\\AppData\\Local\\Temp\\ipykernel_20988\\1174088497.py:11: UserWarning: contrast/test/less30/9958046f-cee5-43e0-b3e5-0f096f48f6b1.png is a low contrast image\n",
      "  io.imsave(f'contrast/test/less30/{name}.png', image.astype(np.uint8))\n",
      "C:\\Users\\adamm\\AppData\\Local\\Temp\\ipykernel_20988\\1174088497.py:11: UserWarning: contrast/test/less30/9ae67664-5422-4267-956d-e9c2b7167bd7.png is a low contrast image\n",
      "  io.imsave(f'contrast/test/less30/{name}.png', image.astype(np.uint8))\n",
      "C:\\Users\\adamm\\AppData\\Local\\Temp\\ipykernel_20988\\1174088497.py:11: UserWarning: contrast/test/less30/9fbf9de4-8b21-47a5-9362-36ed5eba1b2d.png is a low contrast image\n",
      "  io.imsave(f'contrast/test/less30/{name}.png', image.astype(np.uint8))\n",
      "C:\\Users\\adamm\\AppData\\Local\\Temp\\ipykernel_20988\\1174088497.py:11: UserWarning: contrast/test/less30/a8191027-3196-43ba-9dc7-835698541238.png is a low contrast image\n",
      "  io.imsave(f'contrast/test/less30/{name}.png', image.astype(np.uint8))\n",
      "C:\\Users\\adamm\\AppData\\Local\\Temp\\ipykernel_20988\\1174088497.py:11: UserWarning: contrast/test/less30/b421f439-f523-4245-b47d-fa65c4dd5ba9.png is a low contrast image\n",
      "  io.imsave(f'contrast/test/less30/{name}.png', image.astype(np.uint8))\n",
      "C:\\Users\\adamm\\AppData\\Local\\Temp\\ipykernel_20988\\1174088497.py:11: UserWarning: contrast/test/less30/c2e034ea-f5c9-497a-acce-b298974583df.png is a low contrast image\n",
      "  io.imsave(f'contrast/test/less30/{name}.png', image.astype(np.uint8))\n",
      "C:\\Users\\adamm\\AppData\\Local\\Temp\\ipykernel_20988\\1174088497.py:11: UserWarning: contrast/test/less30/d4363c92-a7ee-4129-adbc-c2f253fc4b29.png is a low contrast image\n",
      "  io.imsave(f'contrast/test/less30/{name}.png', image.astype(np.uint8))\n",
      "C:\\Users\\adamm\\AppData\\Local\\Temp\\ipykernel_20988\\1174088497.py:11: UserWarning: contrast/test/less30/d8d6ca6b-2e5e-43bf-a183-a0b49b0c1d60.png is a low contrast image\n",
      "  io.imsave(f'contrast/test/less30/{name}.png', image.astype(np.uint8))\n",
      "C:\\Users\\adamm\\AppData\\Local\\Temp\\ipykernel_20988\\1174088497.py:11: UserWarning: contrast/test/less30/d9aeb461-743d-41f1-a502-1c6556607e24.png is a low contrast image\n",
      "  io.imsave(f'contrast/test/less30/{name}.png', image.astype(np.uint8))\n",
      "C:\\Users\\adamm\\AppData\\Local\\Temp\\ipykernel_20988\\1174088497.py:11: UserWarning: contrast/test/less30/dc0adb35-6bbe-4454-8523-7934d2c43875.png is a low contrast image\n",
      "  io.imsave(f'contrast/test/less30/{name}.png', image.astype(np.uint8))\n",
      "C:\\Users\\adamm\\AppData\\Local\\Temp\\ipykernel_20988\\1174088497.py:11: UserWarning: contrast/test/less30/e176e815-0848-49ee-ae3e-226feb9f2b67.png is a low contrast image\n",
      "  io.imsave(f'contrast/test/less30/{name}.png', image.astype(np.uint8))\n",
      "C:\\Users\\adamm\\AppData\\Local\\Temp\\ipykernel_20988\\1174088497.py:11: UserWarning: contrast/test/less30/e6ec0e86-9254-422d-bdbb-e696dd7ec153.png is a low contrast image\n",
      "  io.imsave(f'contrast/test/less30/{name}.png', image.astype(np.uint8))\n",
      "C:\\Users\\adamm\\AppData\\Local\\Temp\\ipykernel_20988\\1174088497.py:11: UserWarning: contrast/test/less30/ed9640d4-d410-478b-89c9-f67fa53a301c.png is a low contrast image\n",
      "  io.imsave(f'contrast/test/less30/{name}.png', image.astype(np.uint8))\n",
      "C:\\Users\\adamm\\AppData\\Local\\Temp\\ipykernel_20988\\1174088497.py:11: UserWarning: contrast/test/less30/f3b21f34-e63d-4e3f-a152-e37eec4bb5c2.png is a low contrast image\n",
      "  io.imsave(f'contrast/test/less30/{name}.png', image.astype(np.uint8))\n",
      "C:\\Users\\adamm\\AppData\\Local\\Temp\\ipykernel_20988\\1174088497.py:11: UserWarning: contrast/test/less30/f7fd32a3-989b-41ec-9681-d6ae78cbbeb8.png is a low contrast image\n",
      "  io.imsave(f'contrast/test/less30/{name}.png', image.astype(np.uint8))\n",
      "C:\\Users\\adamm\\AppData\\Local\\Temp\\ipykernel_20988\\1174088497.py:11: UserWarning: contrast/test/less30/f867d667-d5c5-4f10-862f-9e52938ed47e.png is a low contrast image\n",
      "  io.imsave(f'contrast/test/less30/{name}.png', image.astype(np.uint8))\n",
      "C:\\Users\\adamm\\AppData\\Local\\Temp\\ipykernel_20988\\1174088497.py:11: UserWarning: contrast/test/less30/f93c436b-f641-4dde-9486-e21e40665391.png is a low contrast image\n",
      "  io.imsave(f'contrast/test/less30/{name}.png', image.astype(np.uint8))\n",
      "C:\\Users\\adamm\\AppData\\Local\\Temp\\ipykernel_20988\\1174088497.py:11: UserWarning: contrast/test/less30/fa2059b7-55ef-41b0-b623-381d39a63c21.png is a low contrast image\n",
      "  io.imsave(f'contrast/test/less30/{name}.png', image.astype(np.uint8))\n"
     ]
    }
   ],
   "source": [
    "# increase contrast\n",
    "input_list_names = glob.glob(\"deskewed/test/less30/*\",)\n",
    "for photo_name in tqdm(input_list_names):\n",
    "    name = photo_name.split(\"\\\\\")[-1]\n",
    "    name = name.split(\".\")[0]\n",
    "    original_image = io.imread(photo_name)\n",
    "    image = Image.fromarray(original_image)\n",
    "    enhancer = ImageEnhance.Contrast(image)\n",
    "    image = enhancer.enhance(1.5)\n",
    "    image = np.array(image)\n",
    "    io.imsave(f'contrast/test/less30/{name}.png', image.astype(np.uint8))\n"
   ]
  },
  {
   "cell_type": "code",
   "execution_count": 31,
   "metadata": {},
   "outputs": [
    {
     "data": {
      "application/vnd.jupyter.widget-view+json": {
       "model_id": "8c13a2d6b7be4c45baa96f3e83351ff3",
       "version_major": 2,
       "version_minor": 0
      },
      "text/plain": [
       "  0%|          | 0/3456 [00:00<?, ?it/s]"
      ]
     },
     "metadata": {},
     "output_type": "display_data"
    }
   ],
   "source": [
    "sharpen_filter = np.array([[-1, -1, -1],\n",
    "                           [-1, 9, -1],\n",
    "                           [-1, -1, -1]])\n",
    "\n",
    "input_list_names = glob.glob(\"contrast/test/less30/*\",)\n",
    "for photo_name in tqdm(input_list_names):\n",
    "    name = photo_name.split(\"\\\\\")[-1]\n",
    "    name = name.split(\".\")[0]\n",
    "    original_image = io.imread(photo_name)\n",
    "    sharp_image = cv2.filter2D(original_image, -1, sharpen_filter)\n",
    "    sharp_image = Image.fromarray(sharp_image)\n",
    "    sharp_image.save(f'sharpened/test/less30/{name}.png')\n"
   ]
  },
  {
   "cell_type": "code",
   "execution_count": 18,
   "metadata": {},
   "outputs": [
    {
     "data": {
      "application/vnd.jupyter.widget-view+json": {
       "model_id": "d40c9809dc764bf0a5a51a8348867ac5",
       "version_major": 2,
       "version_minor": 0
      },
      "text/plain": [
       "  0%|          | 0/3456 [00:00<?, ?it/s]"
      ]
     },
     "metadata": {},
     "output_type": "display_data"
    },
    {
     "ename": "KeyboardInterrupt",
     "evalue": "",
     "output_type": "error",
     "traceback": [
      "\u001b[1;31m---------------------------------------------------------------------------\u001b[0m",
      "\u001b[1;31mKeyboardInterrupt\u001b[0m                         Traceback (most recent call last)",
      "Cell \u001b[1;32mIn[18], line 12\u001b[0m\n\u001b[0;32m      8\u001b[0m image \u001b[39m=\u001b[39m io\u001b[39m.\u001b[39mimread(photo_name)\n\u001b[0;32m     11\u001b[0m \u001b[39m# Perform OCR using pytesseract\u001b[39;00m\n\u001b[1;32m---> 12\u001b[0m text \u001b[39m=\u001b[39m pytesseract\u001b[39m.\u001b[39;49mimage_to_string(image, config\u001b[39m=\u001b[39;49mcustom_config)\n\u001b[0;32m     13\u001b[0m \u001b[39m# count number of \\n\u001b[39;00m\n\u001b[0;32m     14\u001b[0m count \u001b[39m=\u001b[39m text\u001b[39m.\u001b[39mcount(\u001b[39m\"\u001b[39m\u001b[39m\\n\u001b[39;00m\u001b[39m\"\u001b[39m)\n",
      "File \u001b[1;32mc:\\Users\\adamm\\AppData\\Local\\Programs\\Python\\Python310\\lib\\site-packages\\pytesseract\\pytesseract.py:423\u001b[0m, in \u001b[0;36mimage_to_string\u001b[1;34m(image, lang, config, nice, output_type, timeout)\u001b[0m\n\u001b[0;32m    418\u001b[0m \u001b[39m\u001b[39m\u001b[39m\"\"\"\u001b[39;00m\n\u001b[0;32m    419\u001b[0m \u001b[39mReturns the result of a Tesseract OCR run on the provided image to string\u001b[39;00m\n\u001b[0;32m    420\u001b[0m \u001b[39m\"\"\"\u001b[39;00m\n\u001b[0;32m    421\u001b[0m args \u001b[39m=\u001b[39m [image, \u001b[39m'\u001b[39m\u001b[39mtxt\u001b[39m\u001b[39m'\u001b[39m, lang, config, nice, timeout]\n\u001b[1;32m--> 423\u001b[0m \u001b[39mreturn\u001b[39;00m {\n\u001b[0;32m    424\u001b[0m     Output\u001b[39m.\u001b[39;49mBYTES: \u001b[39mlambda\u001b[39;49;00m: run_and_get_output(\u001b[39m*\u001b[39;49m(args \u001b[39m+\u001b[39;49m [\u001b[39mTrue\u001b[39;49;00m])),\n\u001b[0;32m    425\u001b[0m     Output\u001b[39m.\u001b[39;49mDICT: \u001b[39mlambda\u001b[39;49;00m: {\u001b[39m'\u001b[39;49m\u001b[39mtext\u001b[39;49m\u001b[39m'\u001b[39;49m: run_and_get_output(\u001b[39m*\u001b[39;49margs)},\n\u001b[0;32m    426\u001b[0m     Output\u001b[39m.\u001b[39;49mSTRING: \u001b[39mlambda\u001b[39;49;00m: run_and_get_output(\u001b[39m*\u001b[39;49margs),\n\u001b[0;32m    427\u001b[0m }[output_type]()\n",
      "File \u001b[1;32mc:\\Users\\adamm\\AppData\\Local\\Programs\\Python\\Python310\\lib\\site-packages\\pytesseract\\pytesseract.py:426\u001b[0m, in \u001b[0;36mimage_to_string.<locals>.<lambda>\u001b[1;34m()\u001b[0m\n\u001b[0;32m    418\u001b[0m \u001b[39m\u001b[39m\u001b[39m\"\"\"\u001b[39;00m\n\u001b[0;32m    419\u001b[0m \u001b[39mReturns the result of a Tesseract OCR run on the provided image to string\u001b[39;00m\n\u001b[0;32m    420\u001b[0m \u001b[39m\"\"\"\u001b[39;00m\n\u001b[0;32m    421\u001b[0m args \u001b[39m=\u001b[39m [image, \u001b[39m'\u001b[39m\u001b[39mtxt\u001b[39m\u001b[39m'\u001b[39m, lang, config, nice, timeout]\n\u001b[0;32m    423\u001b[0m \u001b[39mreturn\u001b[39;00m {\n\u001b[0;32m    424\u001b[0m     Output\u001b[39m.\u001b[39mBYTES: \u001b[39mlambda\u001b[39;00m: run_and_get_output(\u001b[39m*\u001b[39m(args \u001b[39m+\u001b[39m [\u001b[39mTrue\u001b[39;00m])),\n\u001b[0;32m    425\u001b[0m     Output\u001b[39m.\u001b[39mDICT: \u001b[39mlambda\u001b[39;00m: {\u001b[39m'\u001b[39m\u001b[39mtext\u001b[39m\u001b[39m'\u001b[39m: run_and_get_output(\u001b[39m*\u001b[39margs)},\n\u001b[1;32m--> 426\u001b[0m     Output\u001b[39m.\u001b[39mSTRING: \u001b[39mlambda\u001b[39;00m: run_and_get_output(\u001b[39m*\u001b[39;49margs),\n\u001b[0;32m    427\u001b[0m }[output_type]()\n",
      "File \u001b[1;32mc:\\Users\\adamm\\AppData\\Local\\Programs\\Python\\Python310\\lib\\site-packages\\pytesseract\\pytesseract.py:288\u001b[0m, in \u001b[0;36mrun_and_get_output\u001b[1;34m(image, extension, lang, config, nice, timeout, return_bytes)\u001b[0m\n\u001b[0;32m    277\u001b[0m \u001b[39mwith\u001b[39;00m save(image) \u001b[39mas\u001b[39;00m (temp_name, input_filename):\n\u001b[0;32m    278\u001b[0m     kwargs \u001b[39m=\u001b[39m {\n\u001b[0;32m    279\u001b[0m         \u001b[39m'\u001b[39m\u001b[39minput_filename\u001b[39m\u001b[39m'\u001b[39m: input_filename,\n\u001b[0;32m    280\u001b[0m         \u001b[39m'\u001b[39m\u001b[39moutput_filename_base\u001b[39m\u001b[39m'\u001b[39m: temp_name,\n\u001b[1;32m   (...)\u001b[0m\n\u001b[0;32m    285\u001b[0m         \u001b[39m'\u001b[39m\u001b[39mtimeout\u001b[39m\u001b[39m'\u001b[39m: timeout,\n\u001b[0;32m    286\u001b[0m     }\n\u001b[1;32m--> 288\u001b[0m     run_tesseract(\u001b[39m*\u001b[39m\u001b[39m*\u001b[39mkwargs)\n\u001b[0;32m    289\u001b[0m     filename \u001b[39m=\u001b[39m \u001b[39mf\u001b[39m\u001b[39m\"\u001b[39m\u001b[39m{\u001b[39;00mkwargs[\u001b[39m'\u001b[39m\u001b[39moutput_filename_base\u001b[39m\u001b[39m'\u001b[39m]\u001b[39m}\u001b[39;00m\u001b[39m{\u001b[39;00mextsep\u001b[39m}\u001b[39;00m\u001b[39m{\u001b[39;00mextension\u001b[39m}\u001b[39;00m\u001b[39m\"\u001b[39m\n\u001b[0;32m    290\u001b[0m     \u001b[39mwith\u001b[39;00m \u001b[39mopen\u001b[39m(filename, \u001b[39m'\u001b[39m\u001b[39mrb\u001b[39m\u001b[39m'\u001b[39m) \u001b[39mas\u001b[39;00m output_file:\n",
      "File \u001b[1;32mc:\\Users\\adamm\\AppData\\Local\\Programs\\Python\\Python310\\lib\\site-packages\\pytesseract\\pytesseract.py:262\u001b[0m, in \u001b[0;36mrun_tesseract\u001b[1;34m(input_filename, output_filename_base, extension, lang, config, nice, timeout)\u001b[0m\n\u001b[0;32m    259\u001b[0m     \u001b[39melse\u001b[39;00m:\n\u001b[0;32m    260\u001b[0m         \u001b[39mraise\u001b[39;00m TesseractNotFoundError()\n\u001b[1;32m--> 262\u001b[0m \u001b[39mwith\u001b[39;00m timeout_manager(proc, timeout) \u001b[39mas\u001b[39;00m error_string:\n\u001b[0;32m    263\u001b[0m     \u001b[39mif\u001b[39;00m proc\u001b[39m.\u001b[39mreturncode:\n\u001b[0;32m    264\u001b[0m         \u001b[39mraise\u001b[39;00m TesseractError(proc\u001b[39m.\u001b[39mreturncode, get_errors(error_string))\n",
      "File \u001b[1;32mc:\\Users\\adamm\\AppData\\Local\\Programs\\Python\\Python310\\lib\\contextlib.py:135\u001b[0m, in \u001b[0;36m_GeneratorContextManager.__enter__\u001b[1;34m(self)\u001b[0m\n\u001b[0;32m    133\u001b[0m \u001b[39mdel\u001b[39;00m \u001b[39mself\u001b[39m\u001b[39m.\u001b[39margs, \u001b[39mself\u001b[39m\u001b[39m.\u001b[39mkwds, \u001b[39mself\u001b[39m\u001b[39m.\u001b[39mfunc\n\u001b[0;32m    134\u001b[0m \u001b[39mtry\u001b[39;00m:\n\u001b[1;32m--> 135\u001b[0m     \u001b[39mreturn\u001b[39;00m \u001b[39mnext\u001b[39;49m(\u001b[39mself\u001b[39;49m\u001b[39m.\u001b[39;49mgen)\n\u001b[0;32m    136\u001b[0m \u001b[39mexcept\u001b[39;00m \u001b[39mStopIteration\u001b[39;00m:\n\u001b[0;32m    137\u001b[0m     \u001b[39mraise\u001b[39;00m \u001b[39mRuntimeError\u001b[39;00m(\u001b[39m\"\u001b[39m\u001b[39mgenerator didn\u001b[39m\u001b[39m'\u001b[39m\u001b[39mt yield\u001b[39m\u001b[39m\"\u001b[39m) \u001b[39mfrom\u001b[39;00m \u001b[39mNone\u001b[39;00m\n",
      "File \u001b[1;32mc:\\Users\\adamm\\AppData\\Local\\Programs\\Python\\Python310\\lib\\site-packages\\pytesseract\\pytesseract.py:127\u001b[0m, in \u001b[0;36mtimeout_manager\u001b[1;34m(proc, seconds)\u001b[0m\n\u001b[0;32m    125\u001b[0m \u001b[39mtry\u001b[39;00m:\n\u001b[0;32m    126\u001b[0m     \u001b[39mif\u001b[39;00m \u001b[39mnot\u001b[39;00m seconds:\n\u001b[1;32m--> 127\u001b[0m         \u001b[39myield\u001b[39;00m proc\u001b[39m.\u001b[39;49mcommunicate()[\u001b[39m1\u001b[39m]\n\u001b[0;32m    128\u001b[0m         \u001b[39mreturn\u001b[39;00m\n\u001b[0;32m    130\u001b[0m     \u001b[39mtry\u001b[39;00m:\n",
      "File \u001b[1;32mc:\\Users\\adamm\\AppData\\Local\\Programs\\Python\\Python310\\lib\\subprocess.py:1154\u001b[0m, in \u001b[0;36mPopen.communicate\u001b[1;34m(self, input, timeout)\u001b[0m\n\u001b[0;32m   1151\u001b[0m     endtime \u001b[39m=\u001b[39m \u001b[39mNone\u001b[39;00m\n\u001b[0;32m   1153\u001b[0m \u001b[39mtry\u001b[39;00m:\n\u001b[1;32m-> 1154\u001b[0m     stdout, stderr \u001b[39m=\u001b[39m \u001b[39mself\u001b[39;49m\u001b[39m.\u001b[39;49m_communicate(\u001b[39minput\u001b[39;49m, endtime, timeout)\n\u001b[0;32m   1155\u001b[0m \u001b[39mexcept\u001b[39;00m \u001b[39mKeyboardInterrupt\u001b[39;00m:\n\u001b[0;32m   1156\u001b[0m     \u001b[39m# https://bugs.python.org/issue25942\u001b[39;00m\n\u001b[0;32m   1157\u001b[0m     \u001b[39m# See the detailed comment in .wait().\u001b[39;00m\n\u001b[0;32m   1158\u001b[0m     \u001b[39mif\u001b[39;00m timeout \u001b[39mis\u001b[39;00m \u001b[39mnot\u001b[39;00m \u001b[39mNone\u001b[39;00m:\n",
      "File \u001b[1;32mc:\\Users\\adamm\\AppData\\Local\\Programs\\Python\\Python310\\lib\\subprocess.py:1544\u001b[0m, in \u001b[0;36mPopen._communicate\u001b[1;34m(self, input, endtime, orig_timeout)\u001b[0m\n\u001b[0;32m   1540\u001b[0m \u001b[39m# Wait for the reader threads, or time out.  If we time out, the\u001b[39;00m\n\u001b[0;32m   1541\u001b[0m \u001b[39m# threads remain reading and the fds left open in case the user\u001b[39;00m\n\u001b[0;32m   1542\u001b[0m \u001b[39m# calls communicate again.\u001b[39;00m\n\u001b[0;32m   1543\u001b[0m \u001b[39mif\u001b[39;00m \u001b[39mself\u001b[39m\u001b[39m.\u001b[39mstdout \u001b[39mis\u001b[39;00m \u001b[39mnot\u001b[39;00m \u001b[39mNone\u001b[39;00m:\n\u001b[1;32m-> 1544\u001b[0m     \u001b[39mself\u001b[39;49m\u001b[39m.\u001b[39;49mstdout_thread\u001b[39m.\u001b[39;49mjoin(\u001b[39mself\u001b[39;49m\u001b[39m.\u001b[39;49m_remaining_time(endtime))\n\u001b[0;32m   1545\u001b[0m     \u001b[39mif\u001b[39;00m \u001b[39mself\u001b[39m\u001b[39m.\u001b[39mstdout_thread\u001b[39m.\u001b[39mis_alive():\n\u001b[0;32m   1546\u001b[0m         \u001b[39mraise\u001b[39;00m TimeoutExpired(\u001b[39mself\u001b[39m\u001b[39m.\u001b[39margs, orig_timeout)\n",
      "File \u001b[1;32mc:\\Users\\adamm\\AppData\\Local\\Programs\\Python\\Python310\\lib\\threading.py:1096\u001b[0m, in \u001b[0;36mThread.join\u001b[1;34m(self, timeout)\u001b[0m\n\u001b[0;32m   1093\u001b[0m     \u001b[39mraise\u001b[39;00m \u001b[39mRuntimeError\u001b[39;00m(\u001b[39m\"\u001b[39m\u001b[39mcannot join current thread\u001b[39m\u001b[39m\"\u001b[39m)\n\u001b[0;32m   1095\u001b[0m \u001b[39mif\u001b[39;00m timeout \u001b[39mis\u001b[39;00m \u001b[39mNone\u001b[39;00m:\n\u001b[1;32m-> 1096\u001b[0m     \u001b[39mself\u001b[39;49m\u001b[39m.\u001b[39;49m_wait_for_tstate_lock()\n\u001b[0;32m   1097\u001b[0m \u001b[39melse\u001b[39;00m:\n\u001b[0;32m   1098\u001b[0m     \u001b[39m# the behavior of a negative timeout isn't documented, but\u001b[39;00m\n\u001b[0;32m   1099\u001b[0m     \u001b[39m# historically .join(timeout=x) for x<0 has acted as if timeout=0\u001b[39;00m\n\u001b[0;32m   1100\u001b[0m     \u001b[39mself\u001b[39m\u001b[39m.\u001b[39m_wait_for_tstate_lock(timeout\u001b[39m=\u001b[39m\u001b[39mmax\u001b[39m(timeout, \u001b[39m0\u001b[39m))\n",
      "File \u001b[1;32mc:\\Users\\adamm\\AppData\\Local\\Programs\\Python\\Python310\\lib\\threading.py:1116\u001b[0m, in \u001b[0;36mThread._wait_for_tstate_lock\u001b[1;34m(self, block, timeout)\u001b[0m\n\u001b[0;32m   1113\u001b[0m     \u001b[39mreturn\u001b[39;00m\n\u001b[0;32m   1115\u001b[0m \u001b[39mtry\u001b[39;00m:\n\u001b[1;32m-> 1116\u001b[0m     \u001b[39mif\u001b[39;00m lock\u001b[39m.\u001b[39;49macquire(block, timeout):\n\u001b[0;32m   1117\u001b[0m         lock\u001b[39m.\u001b[39mrelease()\n\u001b[0;32m   1118\u001b[0m         \u001b[39mself\u001b[39m\u001b[39m.\u001b[39m_stop()\n",
      "\u001b[1;31mKeyboardInterrupt\u001b[0m: "
     ]
    }
   ],
   "source": [
    "# iterate over the list of image paths\n",
    "input_list_names = glob.glob(\"sharpened/test/less30/*\",)\n",
    "custom_config = r'--oem 3 --psm 6 -l pol'\n",
    "photos_dict_less30 = {}\n",
    "for photo_name in tqdm(input_list_names):\n",
    "    name = photo_name.split(\"\\\\\")[-1]\n",
    "    name = name.split(\".\")[0]\n",
    "    image = io.imread(photo_name)\n",
    "\n",
    "\n",
    "    # Perform OCR using pytesseract\n",
    "    text = pytesseract.image_to_string(image, config=custom_config)\n",
    "    # count number of \\n\n",
    "    count = text.count(\"\\n\")\n",
    "    # replace \\n with space\n",
    "    text = text.replace(\"\\n\", \" \")\n",
    "    # replace \\x0c with space\n",
    "    text = text.replace(\"\\x0c\", \" \")\n",
    "   \n",
    "\n",
    "    photos_dict_less30[name] = (text, count)\n",
    "    "
   ]
  },
  {
   "cell_type": "code",
   "execution_count": 9,
   "metadata": {},
   "outputs": [],
   "source": [
    "# save dictionary to pickle\n",
    "import pickle\n",
    "with open('photos_dict_less30_test.pickle', 'wb') as handle:\n",
    "    pickle.dump(photos_dict_less30, handle, protocol=pickle.HIGHEST_PROTOCOL)\n"
   ]
  },
  {
   "cell_type": "code",
   "execution_count": 10,
   "metadata": {},
   "outputs": [
    {
     "data": {
      "application/vnd.jupyter.widget-view+json": {
       "model_id": "c29e2d05a2a64515a68c7a15ad3f031c",
       "version_major": 2,
       "version_minor": 0
      },
      "text/plain": [
       "  0%|          | 0/108 [00:00<?, ?it/s]"
      ]
     },
     "metadata": {},
     "output_type": "display_data"
    }
   ],
   "source": [
    "# iterate over the list of image paths\n",
    "input_list_names = glob.glob(\"sharpened/test/moreeq30/*\",)\n",
    "custom_config = r'--oem 3 --psm 6 -l pol'\n",
    "photos_dict_moreeq30 = {}\n",
    "for photo_name in tqdm(input_list_names):\n",
    "    name = photo_name.split(\"\\\\\")[-1]\n",
    "    name = name.split(\".\")[0]\n",
    "    image = io.imread(photo_name)\n",
    "\n",
    "\n",
    "    # Perform OCR using pytesseract\n",
    "    text = pytesseract.image_to_string(image, config=custom_config)\n",
    "    photos_dict_moreeq30[name] = text\n",
    "    "
   ]
  },
  {
   "cell_type": "code",
   "execution_count": null,
   "metadata": {},
   "outputs": [],
   "source": [
    "# save dictionary to pickle\n",
    "import pickle\n",
    "with open('photos_dict_moreeq30_test.pickle', 'wb') as handle:\n",
    "    pickle.dump(photos_dict_moreeq30, handle, protocol=pickle.HIGHEST_PROTOCOL)\n",
    "    "
   ]
  }
 ],
 "metadata": {
  "kernelspec": {
   "display_name": "Python 3",
   "language": "python",
   "name": "python3"
  },
  "language_info": {
   "codemirror_mode": {
    "name": "ipython",
    "version": 3
   },
   "file_extension": ".py",
   "mimetype": "text/x-python",
   "name": "python",
   "nbconvert_exporter": "python",
   "pygments_lexer": "ipython3",
   "version": "3.10.11"
  },
  "orig_nbformat": 4
 },
 "nbformat": 4,
 "nbformat_minor": 2
}
