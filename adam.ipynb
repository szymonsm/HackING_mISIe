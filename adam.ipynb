{
 "cells": [
  {
   "cell_type": "code",
   "execution_count": 78,
   "metadata": {},
   "outputs": [],
   "source": [
    "import pytesseract\n",
    "from PIL import Image, ImageFilter, ImageEnhance\n",
    "import numpy as np\n",
    "from skimage import io\n",
    "from skimage.color import rgb2gray\n",
    "from skimage.transform import rotate\n",
    "from deskew import determine_skew\n",
    "import glob\n",
    "import cv2\n",
    "import numpy as np  \n",
    "import os\n",
    "from tqdm.notebook import tqdm \n",
    "import time\n",
    "import pickle\n",
    "\n",
    "\n",
    "#ignore UserWarning\n",
    "import warnings\n",
    "warnings.filterwarnings(\"ignore\", category=UserWarning)\n",
    "\n",
    "\n",
    "path_to_tesseract = r'C:\\Program Files\\Tesseract-OCR\\tesseract.exe'\n"
   ]
  },
  {
   "cell_type": "code",
   "execution_count": 79,
   "metadata": {},
   "outputs": [],
   "source": [
    "def deskew(train_or_test, more_or_less):\n",
    "    temp = \"\"\n",
    "    if more_or_less == \"less\":\n",
    "        temp = \"less30\"\n",
    "    else:\n",
    "        temp = \"moreeq30\"\n",
    "\n",
    "    \n",
    "    input_list_names = glob.glob(f\"wszystkie_zdj/{train_or_test}/*\",)\n",
    "    \n",
    "\n",
    "    for photo_name in tqdm(input_list_names):\n",
    "        name = photo_name.split(\"\\\\\")[-1]\n",
    "        name = name.split(\".\")[0]\n",
    "\n",
    "        try:    \n",
    "            image = io.imread(photo_name)\n",
    "        except:\n",
    "            print(f\"Nie udało się otworzyć pliku {name}\")\n",
    "            continue\n",
    "        angle = determine_skew(image)\n",
    "        rotated = rotate(image, angle, resize=True) * 255\n",
    "\n",
    "        if abs (angle) >= 30:\n",
    "            io.imsave(f'deskewed/{train_or_test}/{temp}/{name}.png', image.astype(np.uint8))\n",
    "        else:\n",
    "            io.imsave(f'deskewed/{train_or_test}/{temp}/{name}.png', rotated.astype(np.uint8))"
   ]
  },
  {
   "cell_type": "code",
   "execution_count": 80,
   "metadata": {},
   "outputs": [],
   "source": [
    "def increase_contrast(train_or_test, more_or_less):\n",
    "    # increase contrast\n",
    "    temp = \"\"\n",
    "    if more_or_less == \"less\":\n",
    "        temp = \"less30\"\n",
    "    else:\n",
    "        temp = \"moreeq30\"\n",
    "\n",
    "    \n",
    "    input_list_names = glob.glob(f\"deskewed/{train_or_test}/{temp}/*\",)\n",
    "    for photo_name in tqdm(input_list_names):\n",
    "        name = photo_name.split(\"\\\\\")[-1]\n",
    "        name = name.split(\".\")[0]\n",
    "        original_image = io.imread(photo_name)\n",
    "        image = Image.fromarray(original_image)\n",
    "        enhancer = ImageEnhance.Contrast(image)\n",
    "        image = enhancer.enhance(1.25)\n",
    "        image = np.array(image)\n",
    "        io.imsave(f'contrast/{train_or_test}/{temp}/{name}.png', image.astype(np.uint8))\n"
   ]
  },
  {
   "cell_type": "code",
   "execution_count": 81,
   "metadata": {},
   "outputs": [],
   "source": [
    "def sharpen(train_or_test, more_or_less):\n",
    "    # increase contrast\n",
    "    temp = \"\"\n",
    "    if more_or_less == \"less\":\n",
    "        temp = \"less30\"\n",
    "    else:\n",
    "        temp = \"moreeq30\"\n",
    "    input_list_names = glob.glob(f\"contrast/{train_or_test}/{temp}/*\",)\n",
    "    for photo_name in tqdm(input_list_names):\n",
    "        name = photo_name.split(\"\\\\\")[-1]\n",
    "        name = name.split(\".\")[0]\n",
    "        original_image = io.imread(photo_name)\n",
    "        sharp_image = cv2.filter2D(original_image, -1, sharpen_filter)\n",
    "        sharp_image = Image.fromarray(sharp_image)\n",
    "        sharp_image.save(f'sharpened/{train_or_test}/{temp}/{name}.png')"
   ]
  },
  {
   "cell_type": "code",
   "execution_count": 82,
   "metadata": {},
   "outputs": [],
   "source": [
    "def get_text(train_or_test, more_or_less):\n",
    "    temp = \"\"\n",
    "    if more_or_less == \"less\":\n",
    "        temp = \"less30\"\n",
    "    else:\n",
    "        temp = \"moreeq30\"\n",
    "    input_list_names = glob.glob(f\"sharpened/{train_or_test}/{temp}/*\",)\n",
    "    custom_config = r'--oem 3 --psm 6 -l pol'\n",
    "    photos_dict = {}\n",
    "    for photo_name in tqdm(input_list_names):\n",
    "        name = photo_name.split(\"\\\\\")[-1]\n",
    "        name = name.split(\".\")[0]\n",
    "        image = io.imread(photo_name)\n",
    "\n",
    "\n",
    "        # Perform OCR using pytesseract\n",
    "        text = pytesseract.image_to_string(image, config=custom_config)\n",
    "        # count number of \\n\n",
    "        count = text.count(\"\\n\")\n",
    "        # replace \\n with space\n",
    "        text = text.replace(\"\\n\", \" \")\n",
    "        # replace \\x0c with space\n",
    "        text = text.replace(\"\\x0c\", \" \")\n",
    "    \n",
    "\n",
    "        photos_dict[name] = (text, count)\n",
    "    with open(f'photos_dict_{temp}_{train_or_test}.pickle', 'wb') as handle:\n",
    "        pickle.dump(photos_dict, handle, protocol=pickle.HIGHEST_PROTOCOL)\n",
    "    return photos_dict"
   ]
  },
  {
   "cell_type": "code",
   "execution_count": 83,
   "metadata": {},
   "outputs": [],
   "source": [
    "def pipeline(train_or_test, more_or_less, deskew_ = True, increase_contrast_ = True, sharpen_ = True, get_text_ = True):\n",
    "    temp = \"\"\n",
    "    if more_or_less == \"less\":\n",
    "        temp = \"less30\"\n",
    "    else:\n",
    "        temp = \"moreeq30\"\n",
    "\n",
    "    if deskew_:\n",
    "        deskew(train_or_test, more_or_less)\n",
    "    \n",
    "    if increase_contrast_:\n",
    "        increase_contrast(train_or_test, more_or_less)\n",
    "    \n",
    "    if sharpen_:\n",
    "        sharpen(train_or_test, more_or_less)\n",
    "    \n",
    "    if get_text_:\n",
    "        get_text(train_or_test, more_or_less)\n",
    "    # read pickle\n",
    "    with open(f'photos_dict_{temp}_{train_or_test}.pickle', 'rb') as handle:\n",
    "        photos_dict = pickle.load(handle)\n",
    "    return photos_dict"
   ]
  },
  {
   "cell_type": "code",
   "execution_count": 84,
   "metadata": {},
   "outputs": [
    {
     "data": {
      "application/vnd.jupyter.widget-view+json": {
       "model_id": "92dff53521174c3b9fb748349f433657",
       "version_major": 2,
       "version_minor": 0
      },
      "text/plain": [
       "  0%|          | 0/88 [00:00<?, ?it/s]"
      ]
     },
     "metadata": {},
     "output_type": "display_data"
    },
    {
     "data": {
      "application/vnd.jupyter.widget-view+json": {
       "model_id": "53b841678abf499296323599a94a0bc2",
       "version_major": 2,
       "version_minor": 0
      },
      "text/plain": [
       "  0%|          | 0/88 [00:00<?, ?it/s]"
      ]
     },
     "metadata": {},
     "output_type": "display_data"
    },
    {
     "data": {
      "application/vnd.jupyter.widget-view+json": {
       "model_id": "c0e7d7075cbc41c5a117f257535c3a62",
       "version_major": 2,
       "version_minor": 0
      },
      "text/plain": [
       "  0%|          | 0/88 [00:00<?, ?it/s]"
      ]
     },
     "metadata": {},
     "output_type": "display_data"
    },
    {
     "data": {
      "application/vnd.jupyter.widget-view+json": {
       "model_id": "451d95bfa37b458c823c05676f203400",
       "version_major": 2,
       "version_minor": 0
      },
      "text/plain": [
       "  0%|          | 0/108 [00:00<?, ?it/s]"
      ]
     },
     "metadata": {},
     "output_type": "display_data"
    },
    {
     "data": {
      "application/vnd.jupyter.widget-view+json": {
       "model_id": "efe324fc19ce4d37a5329985a693416a",
       "version_major": 2,
       "version_minor": 0
      },
      "text/plain": [
       "  0%|          | 0/108 [00:00<?, ?it/s]"
      ]
     },
     "metadata": {},
     "output_type": "display_data"
    },
    {
     "data": {
      "application/vnd.jupyter.widget-view+json": {
       "model_id": "4454d1cfb27e4452a24d108082d77e15",
       "version_major": 2,
       "version_minor": 0
      },
      "text/plain": [
       "  0%|          | 0/108 [00:00<?, ?it/s]"
      ]
     },
     "metadata": {},
     "output_type": "display_data"
    },
    {
     "data": {
      "application/vnd.jupyter.widget-view+json": {
       "model_id": "e6592bec982a4db085b3b8960ed2d28d",
       "version_major": 2,
       "version_minor": 0
      },
      "text/plain": [
       "  0%|          | 0/3456 [00:00<?, ?it/s]"
      ]
     },
     "metadata": {},
     "output_type": "display_data"
    },
    {
     "data": {
      "application/vnd.jupyter.widget-view+json": {
       "model_id": "1dadc2356ac44c58b7cfc423f4b5c980",
       "version_major": 2,
       "version_minor": 0
      },
      "text/plain": [
       "  0%|          | 0/3456 [00:00<?, ?it/s]"
      ]
     },
     "metadata": {},
     "output_type": "display_data"
    },
    {
     "data": {
      "application/vnd.jupyter.widget-view+json": {
       "model_id": "973331412a2b4e6b80c517784c7d71c9",
       "version_major": 2,
       "version_minor": 0
      },
      "text/plain": [
       "  0%|          | 0/3456 [00:00<?, ?it/s]"
      ]
     },
     "metadata": {},
     "output_type": "display_data"
    },
    {
     "data": {
      "application/vnd.jupyter.widget-view+json": {
       "model_id": "eeb23e449a094d53b9d1b4d10ce4d8e2",
       "version_major": 2,
       "version_minor": 0
      },
      "text/plain": [
       "  0%|          | 0/10742 [00:00<?, ?it/s]"
      ]
     },
     "metadata": {},
     "output_type": "display_data"
    }
   ],
   "source": [
    "pipeline(\"test\", \"more\", deskew_=False)\n",
    "pipeline(\"train\", \"more\", deskew_=False)\n",
    "pipeline(\"test\", \"less\", deskew_=False)\n",
    "pipeline(\"train\", \"less\", deskew_=False)\n"
   ]
  }
 ],
 "metadata": {
  "kernelspec": {
   "display_name": "Python 3",
   "language": "python",
   "name": "python3"
  },
  "language_info": {
   "codemirror_mode": {
    "name": "ipython",
    "version": 3
   },
   "file_extension": ".py",
   "mimetype": "text/x-python",
   "name": "python",
   "nbconvert_exporter": "python",
   "pygments_lexer": "ipython3",
   "version": "3.10.11"
  },
  "orig_nbformat": 4
 },
 "nbformat": 4,
 "nbformat_minor": 2
}
