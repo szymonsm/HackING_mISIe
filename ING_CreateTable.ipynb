{
 "cells": [
  {
   "cell_type": "code",
   "execution_count": 7,
   "id": "05f5f366",
   "metadata": {},
   "outputs": [],
   "source": [
    "import pandas as pd\n",
    "\n",
    "id2label = pd.read_pickle('data/id2label_final.pkl')\n",
    "label2id = pd.read_pickle('data/label2id_final.pkl')\n",
    "submission_file = pd.read_csv('data/submission_file.csv')\n",
    "test_ids_final = pd.read_csv('data/test_ids_final.csv')\n",
    "test_ocr_clean = pd.read_pickle('data/test_ocr_clean.pkl')\n",
    "train_ids_final = pd.read_csv('data/train_ids_final.csv')\n",
    "train_labels_final = pd.read_pickle('data/train_labels_final.pkl')\n",
    "train_set_ocr = pd.read_pickle('data/train_set_ocr.pkl')"
   ]
  },
  {
   "cell_type": "code",
   "execution_count": 168,
   "id": "a67091e7",
   "metadata": {},
   "outputs": [
    {
     "data": {
      "text/plain": [
       "{0: 'advertisement',\n",
       " 1: 'budget',\n",
       " 2: 'email',\n",
       " 3: 'file_folder',\n",
       " 4: 'form',\n",
       " 5: 'handwritten',\n",
       " 6: 'invoice',\n",
       " 7: 'letter',\n",
       " 8: 'memo',\n",
       " 9: 'news_article',\n",
       " 10: 'pit37_v1',\n",
       " 11: 'pozwolenie_uzytkowanie_obiektu_budowlanego',\n",
       " 12: 'presentation',\n",
       " 13: 'questionnaire',\n",
       " 14: 'resume',\n",
       " 15: 'scientific_publication',\n",
       " 16: 'scientific_report',\n",
       " 17: 'specification',\n",
       " 18: 'umowa_na_odleglosc_odstapienie',\n",
       " 19: 'umowa_o_dzielo',\n",
       " 20: 'umowa_sprzedazy_samochodu'}"
      ]
     },
     "execution_count": 168,
     "metadata": {},
     "output_type": "execute_result"
    }
   ],
   "source": [
    "label2id"
   ]
  },
  {
   "cell_type": "code",
   "execution_count": 21,
   "id": "5d97bdbb",
   "metadata": {},
   "outputs": [
    {
     "data": {
      "text/plain": [
       "'PITaxpl POLALSHPein 9220067289 8383511524 18 1 0 ofrin PIT-37 ZEZNANIE O WYSOKOSCI OSIĄGNIĘTEGO DOCHODU(P\"NI9SIONEJ STRATY) roku podatkowym FoamuapnconvFoslol Oualn Alotry Goldn ua pchod[6oOcepuoronvr eryn Rrectypor Ipodlcelacecoocaomen Doauon npofconcha Pabnhoa NUb mych poonoton cgoiuchzsndach Aasosoqanual Prokadru pontonncc dadainota QOCPOda CIC Camch nuren] [lormaorOmiooatych Oodiodon lpnryhouoa) ouzoaMon soecanych proaunGIooc opodalrOuar L Gnnn to OooauriOolcrac UanhoocLodondocnoconmrcornchdaeg conuon Dochodow @sbaly (1ubeghrch Podslana Duwna At 5usL Ustawyzonn Z64pca 1991/ 0 podanu oochooonmodo  uycmnychiDz U 1 2021 r Doz 1128 Nanci dalet slawa sMadanta Od dnia 15 lulauo do dnla 30 khetniz naslepujnceoo po roku oodalkomm Zasuzezener Usiava art 45ust Lejsce sktidana Urzad korym mowa Usiawy Zwany dale] Uedem Wybor *0o,obuoco 0a . aoaoo disrosob  {oood Dradnany pmdrieny 2u1 Ustat = odru A MIEJSCE SKŁADANIA ZEZNANIA Uuad Skarbovn wNowm Sacz 0 Cclzlozonta lormularza Prhoe Rlors Mobe w 0 1 81 Oroyac 816 9 Ia Ore B. DANE IDENTYFIKACYJNE ! AKTUALNY ADRES ZAMIESZKANIA Poz 27 35 momnona Zznactono kwudral n g UsIkonll Maronka wyperniacsjench vcroog Jes Ian  Cysd B 1 , Dor 27-35 nie si0  Jzol kwadral nr 3 B.1. DANE PODATNIKA ZAZULAK DAZMIRI Polska opolskie Piotrkow Trybunalski Nrloln Orly Gornoslaska 21 Kodo Sycyna Polnocna 14-753 B.2 DANE MAŁZONKA hpal GIANNI LORIN polska dolnoslaskie dzialdowski 4Uli onn Ustron Rajska Bierna PIT-37 4Don CEL TU Det'"
      ]
     },
     "execution_count": 21,
     "metadata": {},
     "output_type": "execute_result"
    }
   ],
   "source": [
    "text = test_ocr_clean['test_set/e9fdc30e-99bd-4df8-ac68-adab008dfc88.jpg']\n",
    "text"
   ]
  },
  {
   "cell_type": "code",
   "execution_count": 90,
   "id": "ba31a11f",
   "metadata": {},
   "outputs": [],
   "source": [
    "train = {'file1':('i want it That Way?',1),\n",
    "             'file2':('TUHe may you do it!? /n come o 123-456-7890 n 93 94 2',2),\n",
    "             'file3':('maybe$ you will Do IT 32 8 (123) 456-7890',1),\n",
    "             'file4':('TUHe may you do it!? /n come on 93 94 2',2),\n",
    "             'file5':('TUHe may you domm 123.456.7890 it!? /noo come omon 2',2),\n",
    "             'file6':('TUHe may you kokodo i want it it!? /n co 123 456 7890',2),\n",
    "             'file7':('okd mor uoowa o dzielo imfriofr r rwivnwroc v v',0),\n",
    "\n",
    "\n",
    "      }"
   ]
  },
  {
   "cell_type": "code",
   "execution_count": 94,
   "id": "740ea8d5",
   "metadata": {},
   "outputs": [],
   "source": [
    "data_test = [{'file_name': key, 'string': value} for key, value in test_ocr_clean.items()]\n",
    "df_test = pd.DataFrame(data_test)"
   ]
  },
  {
   "cell_type": "code",
   "execution_count": 97,
   "id": "19f49343",
   "metadata": {},
   "outputs": [
    {
     "data": {
      "text/plain": [
       "0       PITaxpl POLALSHPein 9220067289 8383511524 18 1...\n",
       "1       Kooaek DalkoNana LiteRAV CZARNYM LLB NeBiesAV ...\n",
       "2       Wypelnv Joonn Beyffenl Vazar FLENY Plsfl Delko...\n",
       "3       PlTaxpl POLA JASNE WYPELN4 PoDATnIK POLA CieMN...\n",
       "4       PlTaxpl POL A JASNE WypelNIA PodaTNix CienncKy...\n",
       "                              ...                        \n",
       "3495    Nancy Coleman 6831 Ridge Blvd. 414 BrockIyn, N...\n",
       "3496    20733788/7 DEC_15.19393 40.22pM1 No.689 P.1/ T...\n",
       "3497    AXXALS OF THE *EIv YORR ACADEMY OF sciecs VOLU...\n",
       "3498    SENT BY :Mezz ina/Br 0wn   Inc_ 3-92 4:51PM 21...\n",
       "3499                                  mal 4a Jeutl Uu + 1\n",
       "Name: string, Length: 3500, dtype: object"
      ]
     },
     "execution_count": 97,
     "metadata": {},
     "output_type": "execute_result"
    }
   ],
   "source": [
    "text_vector"
   ]
  },
  {
   "cell_type": "code",
   "execution_count": 109,
   "id": "c715b19b",
   "metadata": {},
   "outputs": [
    {
     "name": "stdout",
     "output_type": "stream",
     "text": [
      "basic: 20\n",
      "fuzz: 21\n"
     ]
    }
   ],
   "source": [
    "pattern = r\"\\battachments\\b\"\n",
    "target_phrase = 'attachments'\n",
    "\n",
    "text_vector = df_test['string']\n",
    "\n",
    "s = text_vector.apply(lambda x: 1 if re.search(pattern, x, re.IGNORECASE) else 0)\n",
    "f = text_vector.apply(lambda x: 1 if fuzz.partial_ratio(target_phrase.lower(), x.lower()) > 70 else 0)\n",
    "\n",
    "\n",
    "print('basic:', s.sum())\n",
    "print('fuzz:', f.sum())"
   ]
  },
  {
   "cell_type": "code",
   "execution_count": 91,
   "id": "eb19c59f",
   "metadata": {},
   "outputs": [
    {
     "data": {
      "text/html": [
       "<div>\n",
       "<style scoped>\n",
       "    .dataframe tbody tr th:only-of-type {\n",
       "        vertical-align: middle;\n",
       "    }\n",
       "\n",
       "    .dataframe tbody tr th {\n",
       "        vertical-align: top;\n",
       "    }\n",
       "\n",
       "    .dataframe thead th {\n",
       "        text-align: right;\n",
       "    }\n",
       "</style>\n",
       "<table border=\"1\" class=\"dataframe\">\n",
       "  <thead>\n",
       "    <tr style=\"text-align: right;\">\n",
       "      <th></th>\n",
       "      <th>file_name</th>\n",
       "      <th>string</th>\n",
       "      <th>id</th>\n",
       "    </tr>\n",
       "  </thead>\n",
       "  <tbody>\n",
       "    <tr>\n",
       "      <th>0</th>\n",
       "      <td>file1</td>\n",
       "      <td>i want it That Way?</td>\n",
       "      <td>1</td>\n",
       "    </tr>\n",
       "    <tr>\n",
       "      <th>1</th>\n",
       "      <td>file2</td>\n",
       "      <td>TUHe may you do it!? /n come o 123-456-7890 n ...</td>\n",
       "      <td>2</td>\n",
       "    </tr>\n",
       "    <tr>\n",
       "      <th>2</th>\n",
       "      <td>file3</td>\n",
       "      <td>maybe$ you will Do IT 32 8 (123) 456-7890</td>\n",
       "      <td>1</td>\n",
       "    </tr>\n",
       "    <tr>\n",
       "      <th>3</th>\n",
       "      <td>file4</td>\n",
       "      <td>TUHe may you do it!? /n come on 93 94 2</td>\n",
       "      <td>2</td>\n",
       "    </tr>\n",
       "    <tr>\n",
       "      <th>4</th>\n",
       "      <td>file5</td>\n",
       "      <td>TUHe may you domm 123.456.7890 it!? /noo come ...</td>\n",
       "      <td>2</td>\n",
       "    </tr>\n",
       "    <tr>\n",
       "      <th>5</th>\n",
       "      <td>file6</td>\n",
       "      <td>TUHe may you kokodo i want it it!? /n co 123 4...</td>\n",
       "      <td>2</td>\n",
       "    </tr>\n",
       "    <tr>\n",
       "      <th>6</th>\n",
       "      <td>file7</td>\n",
       "      <td>okd mor uoowa o dzielo imfriofr r rwivnwroc v v</td>\n",
       "      <td>0</td>\n",
       "    </tr>\n",
       "  </tbody>\n",
       "</table>\n",
       "</div>"
      ],
      "text/plain": [
       "  file_name                                             string  id\n",
       "0     file1                                i want it That Way?   1\n",
       "1     file2  TUHe may you do it!? /n come o 123-456-7890 n ...   2\n",
       "2     file3          maybe$ you will Do IT 32 8 (123) 456-7890   1\n",
       "3     file4            TUHe may you do it!? /n come on 93 94 2   2\n",
       "4     file5  TUHe may you domm 123.456.7890 it!? /noo come ...   2\n",
       "5     file6  TUHe may you kokodo i want it it!? /n co 123 4...   2\n",
       "6     file7    okd mor uoowa o dzielo imfriofr r rwivnwroc v v   0"
      ]
     },
     "execution_count": 91,
     "metadata": {},
     "output_type": "execute_result"
    }
   ],
   "source": [
    "data = [{'file_name': key, 'string': value[0], 'id': value[1]} for key, value in train.items()]\n",
    "df = pd.DataFrame(data)\n",
    "df"
   ]
  },
  {
   "cell_type": "code",
   "execution_count": 92,
   "id": "6f3f5518",
   "metadata": {},
   "outputs": [
    {
     "data": {
      "text/html": [
       "<div>\n",
       "<style scoped>\n",
       "    .dataframe tbody tr th:only-of-type {\n",
       "        vertical-align: middle;\n",
       "    }\n",
       "\n",
       "    .dataframe tbody tr th {\n",
       "        vertical-align: top;\n",
       "    }\n",
       "\n",
       "    .dataframe thead th {\n",
       "        text-align: right;\n",
       "    }\n",
       "</style>\n",
       "<table border=\"1\" class=\"dataframe\">\n",
       "  <thead>\n",
       "    <tr style=\"text-align: right;\">\n",
       "      <th></th>\n",
       "      <th>file_name</th>\n",
       "      <th>string</th>\n",
       "      <th>id</th>\n",
       "      <th>string_length</th>\n",
       "      <th>capital_letters_count</th>\n",
       "      <th>numbers_count</th>\n",
       "      <th>question_marks_count</th>\n",
       "      <th>currency_signs_count</th>\n",
       "      <th>flag_phone</th>\n",
       "      <th>flag_text</th>\n",
       "      <th>flag_sentance_with_ratio</th>\n",
       "    </tr>\n",
       "  </thead>\n",
       "  <tbody>\n",
       "    <tr>\n",
       "      <th>0</th>\n",
       "      <td>file1</td>\n",
       "      <td>i want it That Way?</td>\n",
       "      <td>1</td>\n",
       "      <td>19</td>\n",
       "      <td>2</td>\n",
       "      <td>0</td>\n",
       "      <td>1</td>\n",
       "      <td>0</td>\n",
       "      <td>0</td>\n",
       "      <td>1</td>\n",
       "      <td>0</td>\n",
       "    </tr>\n",
       "    <tr>\n",
       "      <th>1</th>\n",
       "      <td>file2</td>\n",
       "      <td>TUHe may you do it!? /n come o 123-456-7890 n ...</td>\n",
       "      <td>2</td>\n",
       "      <td>53</td>\n",
       "      <td>3</td>\n",
       "      <td>15</td>\n",
       "      <td>1</td>\n",
       "      <td>0</td>\n",
       "      <td>1</td>\n",
       "      <td>0</td>\n",
       "      <td>0</td>\n",
       "    </tr>\n",
       "    <tr>\n",
       "      <th>2</th>\n",
       "      <td>file3</td>\n",
       "      <td>maybe$ you will Do IT 32 8 (123) 456-7890</td>\n",
       "      <td>1</td>\n",
       "      <td>41</td>\n",
       "      <td>3</td>\n",
       "      <td>13</td>\n",
       "      <td>0</td>\n",
       "      <td>1</td>\n",
       "      <td>1</td>\n",
       "      <td>0</td>\n",
       "      <td>0</td>\n",
       "    </tr>\n",
       "    <tr>\n",
       "      <th>3</th>\n",
       "      <td>file4</td>\n",
       "      <td>TUHe may you do it!? /n come on 93 94 2</td>\n",
       "      <td>2</td>\n",
       "      <td>39</td>\n",
       "      <td>3</td>\n",
       "      <td>5</td>\n",
       "      <td>1</td>\n",
       "      <td>0</td>\n",
       "      <td>0</td>\n",
       "      <td>0</td>\n",
       "      <td>0</td>\n",
       "    </tr>\n",
       "    <tr>\n",
       "      <th>4</th>\n",
       "      <td>file5</td>\n",
       "      <td>TUHe may you domm 123.456.7890 it!? /noo come ...</td>\n",
       "      <td>2</td>\n",
       "      <td>52</td>\n",
       "      <td>3</td>\n",
       "      <td>11</td>\n",
       "      <td>1</td>\n",
       "      <td>0</td>\n",
       "      <td>1</td>\n",
       "      <td>0</td>\n",
       "      <td>0</td>\n",
       "    </tr>\n",
       "    <tr>\n",
       "      <th>5</th>\n",
       "      <td>file6</td>\n",
       "      <td>TUHe may you kokodo i want it it!? /n co 123 4...</td>\n",
       "      <td>2</td>\n",
       "      <td>53</td>\n",
       "      <td>3</td>\n",
       "      <td>10</td>\n",
       "      <td>1</td>\n",
       "      <td>0</td>\n",
       "      <td>1</td>\n",
       "      <td>1</td>\n",
       "      <td>0</td>\n",
       "    </tr>\n",
       "    <tr>\n",
       "      <th>6</th>\n",
       "      <td>file7</td>\n",
       "      <td>okd mor uoowa o dzielo imfriofr r rwivnwroc v v</td>\n",
       "      <td>0</td>\n",
       "      <td>47</td>\n",
       "      <td>0</td>\n",
       "      <td>0</td>\n",
       "      <td>0</td>\n",
       "      <td>0</td>\n",
       "      <td>0</td>\n",
       "      <td>0</td>\n",
       "      <td>1</td>\n",
       "    </tr>\n",
       "  </tbody>\n",
       "</table>\n",
       "</div>"
      ],
      "text/plain": [
       "  file_name                                             string  id  \\\n",
       "0     file1                                i want it That Way?   1   \n",
       "1     file2  TUHe may you do it!? /n come o 123-456-7890 n ...   2   \n",
       "2     file3          maybe$ you will Do IT 32 8 (123) 456-7890   1   \n",
       "3     file4            TUHe may you do it!? /n come on 93 94 2   2   \n",
       "4     file5  TUHe may you domm 123.456.7890 it!? /noo come ...   2   \n",
       "5     file6  TUHe may you kokodo i want it it!? /n co 123 4...   2   \n",
       "6     file7    okd mor uoowa o dzielo imfriofr r rwivnwroc v v   0   \n",
       "\n",
       "   string_length  capital_letters_count  numbers_count  question_marks_count  \\\n",
       "0             19                      2              0                     1   \n",
       "1             53                      3             15                     1   \n",
       "2             41                      3             13                     0   \n",
       "3             39                      3              5                     1   \n",
       "4             52                      3             11                     1   \n",
       "5             53                      3             10                     1   \n",
       "6             47                      0              0                     0   \n",
       "\n",
       "   currency_signs_count  flag_phone  flag_text  flag_sentance_with_ratio  \n",
       "0                     0           0          1                         0  \n",
       "1                     0           1          0                         0  \n",
       "2                     1           1          0                         0  \n",
       "3                     0           0          0                         0  \n",
       "4                     0           1          0                         0  \n",
       "5                     0           1          1                         0  \n",
       "6                     0           0          0                         1  "
      ]
     },
     "execution_count": 92,
     "metadata": {},
     "output_type": "execute_result"
    }
   ],
   "source": [
    "import re\n",
    "from fuzzywuzzy import fuzz\n",
    "\n",
    "df['string_length'] = df['string'].apply(len)\n",
    "\n",
    "# Add a column for the count of capital letters\n",
    "df['capital_letters_count'] = df['string'].apply(lambda x: sum(1 for c in x if c.isupper()))\n",
    "\n",
    "# Add a column for the count of numbers\n",
    "df['numbers_count'] = df['string'].apply(lambda x: sum(1 for c in x if c.isdigit()))\n",
    "# Add a column for the count of question marks\n",
    "df['question_marks_count'] = df['string'].apply(lambda x: x.count('?'))\n",
    "# Add a column for the count of currency signs\n",
    "df['currency_signs_count'] = df['string'].apply(lambda x: x.count('$') + x.count('€') + x.count('£'))\n",
    "\n",
    "# american phone regex\n",
    "pattern = r\"\\b\\(?\\d{3}\\)?[-.\\s]?\\d{3}[-.\\s]?\\d{4}\\b\"\n",
    "\n",
    "# american address regex\n",
    "pattern1 = r\"^\\d+\\s+([a-zA-Z]+\\s+)+[a-zA-Z]+,\\s*[A-Za-z]{2}\\s*\\d{5}(?:-\\d{4})?$\"\n",
    "\n",
    "# Add a column for the flag indicating pattern match\n",
    "df['flag_phone'] = df['string'].apply(lambda x: 1 if re.search(pattern, x) else 0)\n",
    "\n",
    "# Define the pattern to search for\n",
    "pattern = r\"\\bi want it\\b\"\n",
    "\n",
    "# Add a column for the flag indicating pattern match\n",
    "df['flag_text'] = df['string'].apply(lambda x: 1 if re.search(pattern, x, re.IGNORECASE) else 0)\n",
    "\n",
    "target_phrase = \"umowa o dzieło\"\n",
    "\n",
    "# Add a column for the flag indicating approximate match\n",
    "df['flag_sentance_with_ratio'] = df['string'].apply(lambda x: 1 if fuzz.partial_ratio(target_phrase.lower(), x.lower()) > 70 else 0)\n",
    "\n",
    "\n",
    "df"
   ]
  },
  {
   "cell_type": "markdown",
   "id": "dc69935c",
   "metadata": {},
   "source": [
    "## Model for Polish Labels"
   ]
  },
  {
   "cell_type": "code",
   "execution_count": 420,
   "id": "b151f687",
   "metadata": {},
   "outputs": [],
   "source": [
    "train = pd.read_csv('train_data_v2.csv')\n",
    "test = pd.read_csv('test_data_v2.csv')"
   ]
  },
  {
   "cell_type": "code",
   "execution_count": 421,
   "id": "55b497d5",
   "metadata": {
    "scrolled": true
   },
   "outputs": [
    {
     "data": {
      "text/html": [
       "<div>\n",
       "<style scoped>\n",
       "    .dataframe tbody tr th:only-of-type {\n",
       "        vertical-align: middle;\n",
       "    }\n",
       "\n",
       "    .dataframe tbody tr th {\n",
       "        vertical-align: top;\n",
       "    }\n",
       "\n",
       "    .dataframe thead th {\n",
       "        text-align: right;\n",
       "    }\n",
       "</style>\n",
       "<table border=\"1\" class=\"dataframe\">\n",
       "  <thead>\n",
       "    <tr style=\"text-align: right;\">\n",
       "      <th></th>\n",
       "      <th>Unnamed: 0</th>\n",
       "      <th>File</th>\n",
       "      <th>Text ING</th>\n",
       "      <th>ID</th>\n",
       "      <th>Text Adam</th>\n",
       "      <th>Nrow</th>\n",
       "      <th>Text Adam pl</th>\n",
       "      <th>isPolish</th>\n",
       "      <th>isEnglish</th>\n",
       "      <th>isOther</th>\n",
       "    </tr>\n",
       "  </thead>\n",
       "  <tbody>\n",
       "    <tr>\n",
       "      <th>0</th>\n",
       "      <td>170</td>\n",
       "      <td>8975a2c2-f0a4-4830-9095-43143e1fdc32</td>\n",
       "      <td>PlTaxpl POLA JASNEWYPELRIA pooainir PolaCieVEw...</td>\n",
       "      <td>10</td>\n",
       "      <td>| W c wc ECCE GU Pirax.pl Pa a ir POK POŁACIE ...</td>\n",
       "      <td>54</td>\n",
       "      <td>| W c wc ECCE GU Pirax.pl Pa a ir POK POLACIE ...</td>\n",
       "      <td>1</td>\n",
       "      <td>0</td>\n",
       "      <td>0</td>\n",
       "    </tr>\n",
       "    <tr>\n",
       "      <th>1</th>\n",
       "      <td>156</td>\n",
       "      <td>10a30e16-bdd0-42ba-9b0d-256c57e36730</td>\n",
       "      <td>PlTaxpl PCLAJasneWypelna FodatniK PdlaceMeWYPe...</td>\n",
       "      <td>10</td>\n",
       "      <td>AG r jc ai ania 15 jl 22059 PITRDKĄI rowe rada...</td>\n",
       "      <td>51</td>\n",
       "      <td>AG r jc ai ania 15 jl 22059 PITRDKAI rowe rada...</td>\n",
       "      <td>1</td>\n",
       "      <td>0</td>\n",
       "      <td>0</td>\n",
       "    </tr>\n",
       "    <tr>\n",
       "      <th>2</th>\n",
       "      <td>189</td>\n",
       "      <td>e0af7e58-2804-4991-87d7-028326cff3ca</td>\n",
       "      <td>PITaxpl 3676752813 1498024552 PIT-37 ZEZNANIE ...</td>\n",
       "      <td>10</td>\n",
       "      <td>+8 ©. PITdYpl sea no wawa wocapao ocen wa ni b...</td>\n",
       "      <td>40</td>\n",
       "      <td>+8 ©. PITdYpl sea no wawa wocapao ocen wa ni b...</td>\n",
       "      <td>1</td>\n",
       "      <td>0</td>\n",
       "      <td>0</td>\n",
       "    </tr>\n",
       "    <tr>\n",
       "      <th>3</th>\n",
       "      <td>293</td>\n",
       "      <td>59005f09-95b2-41d1-8c81-6ccf2d3b34ed</td>\n",
       "      <td>PolA JASNe WypelNA PODATMIK Cieln( JoF PESEL U...</td>\n",
       "      <td>10</td>\n",
       "      <td>© PITA.pl ro use weta Poor. PoA crime WYPELA U...</td>\n",
       "      <td>51</td>\n",
       "      <td>© PITA.pl ro use weta Poor. PoA crime WYPELA U...</td>\n",
       "      <td>1</td>\n",
       "      <td>0</td>\n",
       "      <td>0</td>\n",
       "    </tr>\n",
       "    <tr>\n",
       "      <th>4</th>\n",
       "      <td>184</td>\n",
       "      <td>eb4c0148-fc4d-42ef-97ab-32088ca56e40</td>\n",
       "      <td>CraRnymLUO NitHESKIM KDLCREM GiemnewYpeln Urza...</td>\n",
       "      <td>10</td>\n",
       "      <td>ZE FS JĄ , Naluiinaraaui mma mażama M ma a SR ...</td>\n",
       "      <td>52</td>\n",
       "      <td>ZE FS JA , Naluiinaraaui mma mazama M ma a SR ...</td>\n",
       "      <td>1</td>\n",
       "      <td>0</td>\n",
       "      <td>0</td>\n",
       "    </tr>\n",
       "  </tbody>\n",
       "</table>\n",
       "</div>"
      ],
      "text/plain": [
       "   Unnamed: 0                                  File  \\\n",
       "0         170  8975a2c2-f0a4-4830-9095-43143e1fdc32   \n",
       "1         156  10a30e16-bdd0-42ba-9b0d-256c57e36730   \n",
       "2         189  e0af7e58-2804-4991-87d7-028326cff3ca   \n",
       "3         293  59005f09-95b2-41d1-8c81-6ccf2d3b34ed   \n",
       "4         184  eb4c0148-fc4d-42ef-97ab-32088ca56e40   \n",
       "\n",
       "                                            Text ING  ID  \\\n",
       "0  PlTaxpl POLA JASNEWYPELRIA pooainir PolaCieVEw...  10   \n",
       "1  PlTaxpl PCLAJasneWypelna FodatniK PdlaceMeWYPe...  10   \n",
       "2  PITaxpl 3676752813 1498024552 PIT-37 ZEZNANIE ...  10   \n",
       "3  PolA JASNe WypelNA PODATMIK Cieln( JoF PESEL U...  10   \n",
       "4  CraRnymLUO NitHESKIM KDLCREM GiemnewYpeln Urza...  10   \n",
       "\n",
       "                                           Text Adam  Nrow  \\\n",
       "0  | W c wc ECCE GU Pirax.pl Pa a ir POK POŁACIE ...    54   \n",
       "1  AG r jc ai ania 15 jl 22059 PITRDKĄI rowe rada...    51   \n",
       "2  +8 ©. PITdYpl sea no wawa wocapao ocen wa ni b...    40   \n",
       "3  © PITA.pl ro use weta Poor. PoA crime WYPELA U...    51   \n",
       "4  ZE FS JĄ , Naluiinaraaui mma mażama M ma a SR ...    52   \n",
       "\n",
       "                                        Text Adam pl  isPolish  isEnglish  \\\n",
       "0  | W c wc ECCE GU Pirax.pl Pa a ir POK POLACIE ...         1          0   \n",
       "1  AG r jc ai ania 15 jl 22059 PITRDKAI rowe rada...         1          0   \n",
       "2  +8 ©. PITdYpl sea no wawa wocapao ocen wa ni b...         1          0   \n",
       "3  © PITA.pl ro use weta Poor. PoA crime WYPELA U...         1          0   \n",
       "4  ZE FS JA , Naluiinaraaui mma mazama M ma a SR ...         1          0   \n",
       "\n",
       "   isOther  \n",
       "0        0  \n",
       "1        0  \n",
       "2        0  \n",
       "3        0  \n",
       "4        0  "
      ]
     },
     "execution_count": 421,
     "metadata": {},
     "output_type": "execute_result"
    }
   ],
   "source": [
    "train.head()"
   ]
  },
  {
   "cell_type": "code",
   "execution_count": 422,
   "id": "5b3a2f6d",
   "metadata": {},
   "outputs": [],
   "source": [
    "train = train[train['isPolish']==1]\n",
    "test = test[test['isPolish']==1]"
   ]
  },
  {
   "cell_type": "code",
   "execution_count": 423,
   "id": "9aa77014",
   "metadata": {},
   "outputs": [],
   "source": [
    "import copy\n",
    "\n",
    "def create_df(df1,colname):\n",
    "    df = df1.copy()\n",
    "    df['string'] = df[colname]\n",
    "    df['string_length'] = df['string'].apply(len)\n",
    "    df['capital_letters_ratio'] = df['string'].apply(lambda x: sum(1 for c in x if c.isupper()))\n",
    "    df['capital_letters_ratio'] = df['capital_letters_ratio'] /df['string_length']\n",
    "    df['numbers_count'] = df['string'].apply(lambda x: sum(1 for c in x if c.isdigit()))\n",
    "    df['question_marks_count'] = df['string'].apply(lambda x: x.count('?'))\n",
    "    df['currency_signs_count'] = df['string'].apply(lambda x: x.count('$') + x.count('€') + x.count('£'))\n",
    "\n",
    "    pattern = r\"\\bumowa sprzedazy samochodu\\b\"\n",
    "    df['flag_1'] = df['string'].apply(lambda x: 1 if re.search(pattern, x, re.IGNORECASE) else 0)\n",
    "    target_phrase = \"umowa sprzedazy samochodu\"\n",
    "    df['flag_fuzz1'] = df['string'].apply(lambda x: 1 if fuzz.partial_ratio(target_phrase.lower(), x.lower()) > 70 else 0)\n",
    "    \n",
    "    pattern = r\"\\bumowa o dzielo\\b\"\n",
    "    df['flag_2'] = df['string'].apply(lambda x: 1 if re.search(pattern, x, re.IGNORECASE) else 0)\n",
    "    target_phrase = \"umowa o dzielo\"\n",
    "    df['flag_fuzz2'] = df['string'].apply(lambda x: 1 if fuzz.partial_ratio(target_phrase.lower(), x.lower()) > 70 else 0)\n",
    "    \n",
    "    pattern = r\"\\boswiadczenie o odstapieniu od umowy zawartej na odleglosc\\b\"\n",
    "    df['flag_3'] = df['string'].apply(lambda x: 1 if re.search(pattern, x, re.IGNORECASE) else 0)\n",
    "    target_phrase = \"oswiadczenie o odstapieniu od umowy zawartej na odleglosc\"\n",
    "    df['flag_fuzz3'] = df['string'].apply(lambda x: 1 if fuzz.partial_ratio(target_phrase.lower(), x.lower()) > 70 else 0)\n",
    "    \n",
    "    pattern = r\"\\bna podstawie art. 7 ust. 1 ustawy\\b\"\n",
    "    df['flag_4'] = df['string'].apply(lambda x: 1 if re.search(pattern, x, re.IGNORECASE) else 0)\n",
    "    target_phrase = \"na podstawie art. 7 ust. 1 ustawy\"\n",
    "    df['flag_fuzz4'] = df['string'].apply(lambda x: 1 if fuzz.partial_ratio(target_phrase.lower(), x.lower()) > 70 else 0)\n",
    "    \n",
    "    pattern = r\"\\bwniosek o udzielenie pozwolenia na uzytkowanie obiektu budowlanego\\b\"\n",
    "    df['flag_5'] = df['string'].apply(lambda x: 1 if re.search(pattern, x, re.IGNORECASE) else 0)\n",
    "    target_phrase = \"wniosek o udzielenie pozwolenia na uzytkowanie obiektu budowlanego\"\n",
    "    df['flag_fuzz5'] = df['string'].apply(lambda x: 1 if fuzz.partial_ratio(target_phrase.lower(), x.lower()) > 70 else 0)\n",
    "    \n",
    "    pattern = r\"\\bzeznanie o wysokosci osiagnietego dochodu\\b\"\n",
    "    df['flag_6'] = df['string'].apply(lambda x: 1 if re.search(pattern, x, re.IGNORECASE) else 0)\n",
    "    target_phrase = \"zeznanie o wysokosci osiagnietego dochodu\"\n",
    "    df['flag_fuzz6'] = df['string'].apply(lambda x: 1 if fuzz.partial_ratio(target_phrase.lower(), x.lower()) > 70 else 0)\n",
    "    \n",
    "    pattern = r\"\\bPitaxpl\\b\"\n",
    "    df['flag_7'] = df['string'].apply(lambda x: 1 if re.search(pattern, x, re.IGNORECASE) else 0)\n",
    "    target_phrase = \"Pitaxpl\"\n",
    "    df['flag_fuzz7'] = df['string'].apply(lambda x: 1 if fuzz.partial_ratio(target_phrase.lower(), x.lower()) > 70 else 0)\n",
    "    return df"
   ]
  },
  {
   "cell_type": "code",
   "execution_count": 471,
   "id": "79f7422b",
   "metadata": {},
   "outputs": [
    {
     "data": {
      "text/plain": [
       "array([10, 11, 18, 19, 20,  0, 17,  3,  5,  9,  6,  1])"
      ]
     },
     "execution_count": 471,
     "metadata": {},
     "output_type": "execute_result"
    }
   ],
   "source": [
    "df = create_df(train,'Text ING')\n",
    "pd.unique(df['ID'])"
   ]
  },
  {
   "cell_type": "code",
   "execution_count": 476,
   "id": "892d2ad0",
   "metadata": {},
   "outputs": [],
   "source": [
    "is_good = np.zeros(len(df['ID']))\n",
    "i=0\n",
    "for ids in df['ID']:\n",
    "    if (ids in (10,11,18,19,20)):\n",
    "        is_good[i] = 1\n",
    "    i=i+1\n",
    " \n",
    "\n",
    "\n",
    "indices = np.where(np.array(is_good) == 1)[0]\n",
    "df = df.iloc[indices]\n",
    "X = df.drop(columns=['Text Adam','Unnamed: 0','string','File','Text ING','ID','Text Adam pl','isPolish','isEnglish','isOther'])\n",
    "y = df['ID']"
   ]
  },
  {
   "cell_type": "code",
   "execution_count": 477,
   "id": "dc1de2ed",
   "metadata": {},
   "outputs": [
    {
     "data": {
      "text/plain": [
       "Index(['Nrow', 'string_length', 'capital_letters_ratio', 'numbers_count',\n",
       "       'question_marks_count', 'currency_signs_count', 'flag_1', 'flag_fuzz1',\n",
       "       'flag_2', 'flag_fuzz2', 'flag_3', 'flag_fuzz3', 'flag_4', 'flag_fuzz4',\n",
       "       'flag_5', 'flag_fuzz5', 'flag_6', 'flag_fuzz6', 'flag_7', 'flag_fuzz7'],\n",
       "      dtype='object')"
      ]
     },
     "execution_count": 477,
     "metadata": {},
     "output_type": "execute_result"
    }
   ],
   "source": [
    "X.columns"
   ]
  },
  {
   "cell_type": "code",
   "execution_count": 478,
   "id": "d722d72b",
   "metadata": {},
   "outputs": [
    {
     "name": "stdout",
     "output_type": "stream",
     "text": [
      "Cross-validation scores: [1.         0.89189189 0.91891892 0.91891892 0.94594595]\n",
      "Average accuracy: 0.9351351351351351\n"
     ]
    }
   ],
   "source": [
    "from sklearn.model_selection import cross_val_score\n",
    "import pandas as pd\n",
    "from sklearn.model_selection import train_test_split\n",
    "from sklearn.tree import DecisionTreeClassifier\n",
    "from sklearn.metrics import accuracy_score\n",
    "\n",
    "\n",
    "\n",
    "# Create a DecisionTreeClassifier\n",
    "clf = DecisionTreeClassifier(random_state = 30)\n",
    "\n",
    "# Perform cross-validation with 5 folds\n",
    "scores = cross_val_score(clf, X, y, cv=5)\n",
    "\n",
    "clf.fit(X,y)\n",
    "\n",
    "# Print the cross-validation scores\n",
    "print(\"Cross-validation scores:\", scores)\n",
    "print(\"Average accuracy:\", scores.mean())"
   ]
  },
  {
   "cell_type": "code",
   "execution_count": 479,
   "id": "4adeffee",
   "metadata": {},
   "outputs": [
    {
     "data": {
      "text/plain": [
       "0.9893048128342246"
      ]
     },
     "execution_count": 479,
     "metadata": {},
     "output_type": "execute_result"
    }
   ],
   "source": [
    "df = create_df(test,'Text ING')\n",
    "X_val = df.drop(columns=['Text Adam','Unnamed: 0','string','File','Text ING','ID','Text Adam pl','isPolish','isEnglish','isOther'])\n",
    "y_val = df['ID']\n",
    "y_pred_val= clf.predict(X_val)\n",
    "\n",
    "accuracy_score(y_val, y_pred_val)"
   ]
  },
  {
   "cell_type": "code",
   "execution_count": 480,
   "id": "036dbe36",
   "metadata": {},
   "outputs": [
    {
     "data": {
      "text/plain": [
       "ID\n",
       "5     1\n",
       "9     1\n",
       "10    0\n",
       "11    0\n",
       "18    0\n",
       "19    0\n",
       "20    0\n",
       "Name: ID, dtype: int64"
      ]
     },
     "execution_count": 480,
     "metadata": {},
     "output_type": "execute_result"
    }
   ],
   "source": [
    "pd.Series(y_val != y_pred_val).groupby(y_val).sum()\n"
   ]
  },
  {
   "cell_type": "code",
   "execution_count": 481,
   "id": "5f0d3b6f",
   "metadata": {},
   "outputs": [
    {
     "data": {
      "text/plain": [
       "['clf_model.pkl']"
      ]
     },
     "execution_count": 481,
     "metadata": {},
     "output_type": "execute_result"
    }
   ],
   "source": [
    "import joblib\n",
    "\n",
    "# Save the trained model to a file\n",
    "joblib.dump(clf, 'clf_model.pkl')"
   ]
  }
 ],
 "metadata": {
  "kernelspec": {
   "display_name": "Python 3 (ipykernel)",
   "language": "python",
   "name": "python3"
  },
  "language_info": {
   "codemirror_mode": {
    "name": "ipython",
    "version": 3
   },
   "file_extension": ".py",
   "mimetype": "text/x-python",
   "name": "python",
   "nbconvert_exporter": "python",
   "pygments_lexer": "ipython3",
   "version": "3.9.7"
  }
 },
 "nbformat": 4,
 "nbformat_minor": 5
}
