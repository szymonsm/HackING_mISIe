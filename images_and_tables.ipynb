{
 "cells": [
  {
   "cell_type": "code",
   "execution_count": 1,
   "outputs": [
    {
     "name": "stdout",
     "output_type": "stream",
     "text": [
      "['./DANE/przykladowe_zdj/przykladowe_zdj/0a16d521-1f33-45be-bde8-376c9026fd96.tiff', './DANE/przykladowe_zdj/przykladowe_zdj/0a1d5be5-8487-4733-babb-c1c71cee876b.tiff', './DANE/przykladowe_zdj/przykladowe_zdj/0a2d8a84-07ee-4d76-a246-8625d1c2cc65.jpg', './DANE/przykladowe_zdj/przykladowe_zdj/0a3e5c11-9f35-4398-9598-da5177296461.tiff', './DANE/przykladowe_zdj/przykladowe_zdj/0a6bfb5d-a4d7-4e4c-a1ba-22f259078b3d.tiff', './DANE/przykladowe_zdj/przykladowe_zdj/0a7cd32d-6127-433c-b122-a6eb30a53f9e.tiff', './DANE/przykladowe_zdj/przykladowe_zdj/0ad15aa1-78bf-4e4f-86c4-f0c395785e38.tiff', './DANE/przykladowe_zdj/przykladowe_zdj/0b645a67-6f38-4da2-95e2-7460f800c275.tiff', './DANE/przykladowe_zdj/przykladowe_zdj/0b7397d3-6cbf-4616-b5eb-44022be04a63.tiff']\n"
     ]
    }
   ],
   "source": [
    "import os\n",
    "\n",
    "def get_filenames(folder_path):\n",
    "    filenames = []\n",
    "    for file in os.listdir(folder_path):\n",
    "        if file.endswith(\".jpg\") or file.endswith(\".tiff\"):\n",
    "            filenames.append(os.path.join(folder_path, file))\n",
    "    return filenames\n",
    "\n",
    "folder_path = \"./DANE/przykladowe_zdj/przykladowe_zdj/\"\n",
    "jpg_filenames = get_filenames(folder_path)\n",
    "print(jpg_filenames)"
   ],
   "metadata": {
    "collapsed": false,
    "ExecuteTime": {
     "end_time": "2023-05-18T12:38:23.761022900Z",
     "start_time": "2023-05-18T12:38:23.739719800Z"
    }
   }
  },
  {
   "cell_type": "code",
   "execution_count": 2,
   "metadata": {
    "collapsed": true,
    "ExecuteTime": {
     "end_time": "2023-05-18T12:38:29.526200300Z",
     "start_time": "2023-05-18T12:38:25.667908100Z"
    }
   },
   "outputs": [
    {
     "ename": "ModuleNotFoundError",
     "evalue": "No module named 'tensorflow'",
     "output_type": "error",
     "traceback": [
      "\u001B[1;31m---------------------------------------------------------------------------\u001B[0m",
      "\u001B[1;31mModuleNotFoundError\u001B[0m                       Traceback (most recent call last)",
      "Cell \u001B[1;32mIn[2], line 5\u001B[0m\n\u001B[0;32m      3\u001B[0m \u001B[38;5;28;01mfrom\u001B[39;00m \u001B[38;5;21;01mpytesseract\u001B[39;00m \u001B[38;5;28;01mimport\u001B[39;00m Output\n\u001B[0;32m      4\u001B[0m \u001B[38;5;28;01mimport\u001B[39;00m \u001B[38;5;21;01mpandas\u001B[39;00m \u001B[38;5;28;01mas\u001B[39;00m \u001B[38;5;21;01mpd\u001B[39;00m\n\u001B[1;32m----> 5\u001B[0m \u001B[38;5;28;01mimport\u001B[39;00m \u001B[38;5;21;01mtensorflow\u001B[39;00m \u001B[38;5;28;01mas\u001B[39;00m \u001B[38;5;21;01mtf\u001B[39;00m\n\u001B[0;32m      6\u001B[0m \u001B[38;5;28;01mfrom\u001B[39;00m \u001B[38;5;21;01mtensorflow\u001B[39;00m\u001B[38;5;21;01m.\u001B[39;00m\u001B[38;5;21;01mkeras\u001B[39;00m\u001B[38;5;21;01m.\u001B[39;00m\u001B[38;5;21;01mapplications\u001B[39;00m\u001B[38;5;21;01m.\u001B[39;00m\u001B[38;5;21;01mmobilenet_v2\u001B[39;00m \u001B[38;5;28;01mimport\u001B[39;00m MobileNetV2, preprocess_input\n\u001B[0;32m      7\u001B[0m \u001B[38;5;28;01mfrom\u001B[39;00m \u001B[38;5;21;01mtensorflow\u001B[39;00m\u001B[38;5;21;01m.\u001B[39;00m\u001B[38;5;21;01mkeras\u001B[39;00m\u001B[38;5;21;01m.\u001B[39;00m\u001B[38;5;21;01mpreprocessing\u001B[39;00m\u001B[38;5;21;01m.\u001B[39;00m\u001B[38;5;21;01mimage\u001B[39;00m \u001B[38;5;28;01mimport\u001B[39;00m img_to_array\n",
      "\u001B[1;31mModuleNotFoundError\u001B[0m: No module named 'tensorflow'"
     ]
    }
   ],
   "source": [
    "import cv2\n",
    "import pytesseract\n",
    "from pytesseract import Output\n",
    "import pandas as pd\n",
    "import tensorflow as tf\n",
    "from tensorflow.keras.applications.mobilenet_v2 import MobileNetV2, preprocess_input\n",
    "from tensorflow.keras.preprocessing.image import img_to_array\n",
    "\n",
    "def detect_image_table(filepaths):\n",
    "    path_to_tesseract = r'C:\\Program Files\\Tesseract-OCR\\tesseract.exe'\n",
    "    pytesseract.pytesseract.tesseract_cmd = path_to_tesseract  # Change this path to your Tesseract executable\n",
    "    model = MobileNetV2(weights='imagenet', include_top=False)\n",
    "\n",
    "    def is_image(image):\n",
    "        image = cv2.resize(image, (224, 224))\n",
    "        image = img_to_array(image)\n",
    "        image = preprocess_input(image)\n",
    "        image = tf.expand_dims(image, axis=0)\n",
    "\n",
    "        features = model.predict(image)\n",
    "        has_image = features.sum() > 0\n",
    "        return has_image\n",
    "\n",
    "    def is_table(image):\n",
    "        d = pytesseract.image_to_data(image, output_type=Output.DICT)\n",
    "        has_table = False\n",
    "        for i in range(len(d['level'])):\n",
    "            if d['level'][i] == 2:  # Level 2 corresponds to block-level elements\n",
    "                print(d['block_num'][i])\n",
    "                if d['block_num'][i] != 0:\n",
    "                    if d['block_num'][i] != prev_block_num:\n",
    "                        if d['conf'][i] < 50:\n",
    "                            has_table = True\n",
    "            prev_block_num = d['block_num'][i]\n",
    "        return has_table\n",
    "\n",
    "    data = []\n",
    "    for filepath in filepaths:\n",
    "        img = cv2.imread(filepath)\n",
    "        has_table = is_table(img)\n",
    "        has_image = is_image(img)\n",
    "        data.append([filepath, has_image, has_table])\n",
    "\n",
    "    df = pd.DataFrame(data, columns=['filepath', 'hasImage', 'hasTable'])\n",
    "    return df\n",
    "\n",
    "\n",
    "filepaths = jpg_filenames\n",
    "result_df = detect_image_table(filepaths)\n",
    "print(result_df)"
   ]
  },
  {
   "cell_type": "code",
   "execution_count": null,
   "outputs": [],
   "source": [],
   "metadata": {
    "collapsed": false
   }
  }
 ],
 "metadata": {
  "kernelspec": {
   "display_name": "Python 3",
   "language": "python",
   "name": "python3"
  },
  "language_info": {
   "codemirror_mode": {
    "name": "ipython",
    "version": 2
   },
   "file_extension": ".py",
   "mimetype": "text/x-python",
   "name": "python",
   "nbconvert_exporter": "python",
   "pygments_lexer": "ipython2",
   "version": "2.7.6"
  }
 },
 "nbformat": 4,
 "nbformat_minor": 0
}
