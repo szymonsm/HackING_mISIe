{
 "cells": [
  {
   "cell_type": "code",
   "execution_count": 1,
   "metadata": {},
   "outputs": [],
   "source": [
    "import cv2\n",
    "import numpy as np\n",
    "import glob\n",
    "import pytesseract\n",
    "from langdetect import detect_langs\n",
    "\n",
    "\n",
    "path_to_tesseract = r'C:\\Program Files\\Tesseract-OCR\\tesseract.exe'\n",
    "pytesseract.pytesseract.tesseract_cmd = path_to_tesseract # Replace with the actual path to the Tesseract executable\n"
   ]
  },
  {
   "cell_type": "code",
   "execution_count": 27,
   "metadata": {},
   "outputs": [],
   "source": [
    "\n",
    "\n",
    "def try_catch_lang(text):\n",
    "    try:\n",
    "        probs = [x.prob for x in detect_langs(text)]\n",
    "    except:\n",
    "        probs = [0]\n",
    "    return probs[0]\n",
    "\n",
    "def check_rotation(text, image):\n",
    "    prob_0 = try_catch_lang(text)\n",
    "    if prob_0<0.97:\n",
    "        image_rot1 = cv2.rotate(image, cv2.ROTATE_90_CLOCKWISE)\n",
    "        text1 = pytesseract.image_to_string(image_rot1)\n",
    "        prob_1 = try_catch_lang(text1)\n",
    "        if prob_1<0.95:\n",
    "            image_rot2 = cv2.rotate(image, cv2.ROTATE_90_COUNTERCLOCKWISE)\n",
    "            text2 = pytesseract.image_to_string(image_rot2)\n",
    "            prob_2 = try_catch_lang(text2)\n",
    "            return np.argmax([prob_0, prob_1, prob_2])\n",
    "        return np.argmax([prob_0, prob_1 ])\n",
    "    return 0 \n",
    "\n",
    "for i,photo_name in enumerate(input_list_names):\n",
    "    name = photo_name.split(\"\\\\\")[-1]\n",
    "    name = name.split(\".\")[0]\n",
    "    image = cv2.imread(photo_name, cv2.IMREAD_UNCHANGED)\n",
    "    \n",
    "    rotate = 0\n",
    "    text_1 = pytesseract.image_to_string(image)\n",
    "    rotate = check_rotation(text_1, image)\n",
    "    print(f\"{i} - {rotate}\")\n",
    "\n",
    "\n",
    "    \n"
   ]
  },
  {
   "cell_type": "code",
   "execution_count": 28,
   "metadata": {},
   "outputs": [
    {
     "name": "stdout",
     "output_type": "stream",
     "text": [
      "0 - 0\n",
      "1 - 0\n",
      "2 - 0\n",
      "3 - 0\n",
      "4 - 0\n",
      "5 - 0\n",
      "0 0 0\n",
      "6 - 0\n",
      "7 - 0\n",
      "0 0.7142854400261935 0\n",
      "8 - 1\n",
      "0.42857126663722006 0.8571379473704168 0.9999962948402352\n",
      "9 - 2\n",
      "0.8571381576006383 0.9999979361660446\n",
      "10 - 1\n",
      "0.7142828703388112 0.8571391394059437 0.9999973958572821\n",
      "11 - 2\n",
      "0 0 0\n",
      "12 - 0\n",
      "13 - 0\n",
      "14 - 0\n",
      "15 - 0\n"
     ]
    }
   ],
   "source": [
    "input_list_names = glob.glob(\"to_be_rotated/*\")\n",
    "\n",
    "\n",
    "for i,photo_name in enumerate(input_list_names):\n",
    "    name = photo_name.split(\"\\\\\")[-1]\n",
    "    name = name.split(\".\")[0]\n",
    "    image = cv2.imread(photo_name, cv2.IMREAD_UNCHANGED)\n",
    "    \n",
    "    rotate = 0\n",
    "    text_1 = pytesseract.image_to_string(image)\n",
    "    rotate = check_rotation(text_1, image)\n",
    "    print(f\"{i} - {rotate}\")\n",
    "\n",
    "# Perform OCR using pytesseract\n"
   ]
  },
  {
   "attachments": {},
   "cell_type": "markdown",
   "metadata": {},
   "source": []
  }
 ],
 "metadata": {
  "kernelspec": {
   "display_name": "hackING",
   "language": "python",
   "name": "python3"
  },
  "language_info": {
   "codemirror_mode": {
    "name": "ipython",
    "version": 3
   },
   "file_extension": ".py",
   "mimetype": "text/x-python",
   "name": "python",
   "nbconvert_exporter": "python",
   "pygments_lexer": "ipython3",
   "version": "3.11.3"
  },
  "orig_nbformat": 4
 },
 "nbformat": 4,
 "nbformat_minor": 2
}
